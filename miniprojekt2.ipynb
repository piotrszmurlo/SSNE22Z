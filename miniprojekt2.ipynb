{
 "cells": [
  {
   "cell_type": "code",
   "execution_count": 755,
   "metadata": {
    "collapsed": true
   },
   "outputs": [],
   "source": [
    "import torch.utils.data as data\n",
    "from sklearn.preprocessing import StandardScaler\n",
    "import numpy as np\n",
    "import torch\n",
    "import torch.nn as nn\n",
    "import torch.nn.functional as F\n",
    "import pandas as pd\n",
    "import matplotlib.pyplot as plt"
   ]
  },
  {
   "cell_type": "code",
   "execution_count": 756,
   "outputs": [
    {
     "data": {
      "text/plain": "<torch._C.Generator at 0x121d57650>"
     },
     "execution_count": 756,
     "metadata": {},
     "output_type": "execute_result"
    }
   ],
   "source": [
    "CHEAP = 100000\n",
    "EXPENSIVE = 350000\n",
    "SEED = 200\n",
    "LEARN_RATE = 0.001\n",
    "NUM_EPOCHS = 10\n",
    "torch.manual_seed(SEED)"
   ],
   "metadata": {
    "collapsed": false
   }
  },
  {
   "cell_type": "code",
   "execution_count": 757,
   "outputs": [],
   "source": [
    "df = pd.read_csv(\"train_data.csv\", sep=',')\n",
    "\n",
    "categorical_fields = [\n",
    "    'YearBuilt', 'Floor', 'HallwayType', 'HeatingType',\n",
    "    'AptManageType', 'TimeToBusStop', 'TimeToSubway', 'SubwayStation',\n",
    "]\n",
    "\n",
    "for field in categorical_fields:\n",
    "    dm = pd.get_dummies(df[field], prefix=field)\n",
    "    df = pd.concat([df, dm], axis=1)\n",
    "df.drop(categorical_fields, axis=1, inplace=True)\n",
    "df['SalePrice'].mask(df['SalePrice'] <= CHEAP, 0, inplace=True)\n",
    "df['SalePrice'].mask((df['SalePrice'] > CHEAP) & (df['SalePrice'] <= EXPENSIVE), 1, inplace=True)\n",
    "df['SalePrice'].mask(df['SalePrice'] > EXPENSIVE, 2, inplace=True)\n"
   ],
   "metadata": {
    "collapsed": false
   }
  },
  {
   "cell_type": "code",
   "execution_count": 758,
   "outputs": [],
   "source": [
    "train = df.sample(frac=0.8,random_state=SEED)\n",
    "test = df.drop(train.index)"
   ],
   "metadata": {
    "collapsed": false
   }
  },
  {
   "cell_type": "code",
   "execution_count": 759,
   "outputs": [
    {
     "name": "stdout",
     "output_type": "stream",
     "text": [
      "cheap count: 451\n",
      "average count: 2417\n",
      "expensive count: 431\n"
     ]
    }
   ],
   "source": [
    "print(f\"cheap count: {train[train['SalePrice'] == 0]['SalePrice'].count()}\")\n",
    "print(f\"average count: {train[train['SalePrice'] == 1]['SalePrice'].count()}\")\n",
    "print(f\"expensive count: {train[train['SalePrice'] == 2]['SalePrice'].count()}\")"
   ],
   "metadata": {
    "collapsed": false
   }
  },
  {
   "cell_type": "markdown",
   "source": [
    "Usuniecie niektorych danych zeby nie bylo tak niezbalansowane:"
   ],
   "metadata": {
    "collapsed": false
   }
  },
  {
   "cell_type": "code",
   "execution_count": 760,
   "outputs": [],
   "source": [
    "train.drop(train[train['SalePrice'] == 1].sample(frac=.8, random_state=SEED).index, inplace=True)"
   ],
   "metadata": {
    "collapsed": false
   }
  },
  {
   "cell_type": "code",
   "execution_count": 761,
   "outputs": [
    {
     "name": "stdout",
     "output_type": "stream",
     "text": [
      "cheap count: 451\n",
      "average count: 483\n",
      "expensive count: 431\n"
     ]
    }
   ],
   "source": [
    "print(f\"cheap count: {train[train['SalePrice'] == 0]['SalePrice'].count()}\")\n",
    "print(f\"average count: {train[train['SalePrice'] == 1]['SalePrice'].count()}\")\n",
    "print(f\"expensive count: {train[train['SalePrice'] == 2]['SalePrice'].count()}\")"
   ],
   "metadata": {
    "collapsed": false
   }
  },
  {
   "cell_type": "code",
   "execution_count": 762,
   "outputs": [],
   "source": [
    "x_train = train.drop('SalePrice', axis=1).to_numpy().astype(np.float32)\n",
    "y_train = train['SalePrice'].to_numpy().astype(np.float32)\n",
    "\n",
    "x_test = test.drop('SalePrice', axis=1).to_numpy().astype(np.float32)\n",
    "y_test = test['SalePrice'].to_numpy().astype(np.float32)"
   ],
   "metadata": {
    "collapsed": false
   }
  },
  {
   "cell_type": "code",
   "execution_count": 763,
   "outputs": [],
   "source": [
    "train_dataset = data.TensorDataset(torch.from_numpy(x_train), torch.from_numpy(y_train))\n",
    "test_dataset = data.TensorDataset(torch.from_numpy(x_test), torch.from_numpy(y_test))"
   ],
   "metadata": {
    "collapsed": false
   }
  },
  {
   "cell_type": "code",
   "execution_count": 764,
   "outputs": [],
   "source": [
    "class Model(nn.Module):\n",
    "    def __init__(self, num_inputs, num_outputs):\n",
    "        super().__init__()\n",
    "        self.linear1 = nn.Linear(num_inputs, 512)\n",
    "        self.linear2 = nn.Linear(512, 256)\n",
    "        self.linear3 = nn.Linear(256, num_outputs)\n",
    "        self.tanh = nn.Tanh()\n",
    "        self.relu = nn.ReLU()\n",
    "\n",
    "    def forward(self, x):\n",
    "        x = self.linear1(x)\n",
    "        x = self.tanh(x)\n",
    "        x = self.linear2(x)\n",
    "        x = self.tanh(x)\n",
    "        x = self.linear3(x)\n",
    "        return x"
   ],
   "metadata": {
    "collapsed": false
   }
  },
  {
   "cell_type": "code",
   "execution_count": 765,
   "outputs": [],
   "source": [
    "model = Model(90, 3)\n",
    "model.to(\"cpu\")\n",
    "optimizer = torch.optim.Adam(model.parameters(), lr=LEARN_RATE)\n",
    "loss_fn = nn.CrossEntropyLoss()\n",
    "train_data_loader = data.DataLoader(train_dataset, batch_size=32, shuffle=True)\n",
    "test_data_loader = data.DataLoader(test_dataset, batch_size=32, shuffle=True)"
   ],
   "metadata": {
    "collapsed": false
   }
  },
  {
   "cell_type": "code",
   "execution_count": 766,
   "outputs": [
    {
     "name": "stdout",
     "output_type": "stream",
     "text": [
      "Epoch: 0, loss: 0.974\n",
      "Epoch: 1, loss: 0.399\n",
      "Epoch: 2, loss: 0.32\n",
      "Epoch: 3, loss: 0.27\n",
      "Epoch: 4, loss: 0.294\n",
      "Epoch: 5, loss: 0.298\n",
      "Epoch: 6, loss: 0.478\n",
      "Epoch: 7, loss: 0.307\n",
      "Epoch: 8, loss: 0.367\n",
      "Epoch: 9, loss: 0.402\n"
     ]
    }
   ],
   "source": [
    "model.train()\n",
    "\n",
    "for epoch in range(NUM_EPOCHS):\n",
    "    for data_inputs, data_labels in train_data_loader:\n",
    "        predictions = model(data_inputs).squeeze(dim=1)\n",
    "        loss = loss_fn(predictions, data_labels.long())\n",
    "\n",
    "        optimizer.zero_grad()\n",
    "        loss.backward()\n",
    "\n",
    "        optimizer.step()\n",
    "    print(f\"Epoch: {epoch}, loss: {loss.item():.3}\")"
   ],
   "metadata": {
    "collapsed": false
   }
  },
  {
   "cell_type": "code",
   "execution_count": 767,
   "outputs": [
    {
     "name": "stdout",
     "output_type": "stream",
     "text": [
      "Accuracy of the model: 82.91%\n"
     ]
    }
   ],
   "source": [
    "model.eval()\n",
    "\n",
    "true_predictions, num_predictions = 0., 0.\n",
    "\n",
    "with torch.no_grad():\n",
    "    for data_inputs, data_labels in test_data_loader:\n",
    "\n",
    "        predictions = model(data_inputs)\n",
    "        prediction_labels = torch.max(predictions.data, 1).indices\n",
    "        true_predictions += (prediction_labels == data_labels).sum()\n",
    "        num_predictions += data_labels.shape[0]\n",
    "acc = true_predictions / num_predictions\n",
    "print(f\"Accuracy of the model: {100.0*acc:4.2f}%\")"
   ],
   "metadata": {
    "collapsed": false
   }
  },
  {
   "cell_type": "code",
   "execution_count": 767,
   "outputs": [],
   "source": [],
   "metadata": {
    "collapsed": false
   }
  }
 ],
 "metadata": {
  "kernelspec": {
   "display_name": "Python 3",
   "language": "python",
   "name": "python3"
  },
  "language_info": {
   "codemirror_mode": {
    "name": "ipython",
    "version": 2
   },
   "file_extension": ".py",
   "mimetype": "text/x-python",
   "name": "python",
   "nbconvert_exporter": "python",
   "pygments_lexer": "ipython2",
   "version": "2.7.6"
  }
 },
 "nbformat": 4,
 "nbformat_minor": 0
}
