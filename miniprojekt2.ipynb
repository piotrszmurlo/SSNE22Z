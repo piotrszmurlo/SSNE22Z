{
 "cells": [
  {
   "cell_type": "code",
   "execution_count": 1,
   "metadata": {
    "tags": []
   },
   "outputs": [],
   "source": [
    "import torch.utils.data as data\n",
    "from sklearn.preprocessing import StandardScaler\n",
    "import numpy as np\n",
    "import torch\n",
    "import torch.nn as nn\n",
    "import torch.nn.functional as F\n",
    "import pandas as pd\n",
    "import matplotlib.pyplot as plt\n",
    "from sklearn.utils.class_weight import compute_class_weight\n",
    "import copy"
   ]
  },
  {
   "cell_type": "code",
   "execution_count": 2,
   "metadata": {
    "collapsed": false,
    "jupyter": {
     "outputs_hidden": false
    }
   },
   "outputs": [],
   "source": [
    "CHEAP = 100_000\n",
    "EXPENSIVE = 350_000\n",
    "SEED = 200\n",
    "torch.manual_seed(SEED)\n",
    "np.random.seed(SEED)"
   ]
  },
  {
   "cell_type": "code",
   "execution_count": 3,
   "metadata": {},
   "outputs": [
    {
     "data": {
      "text/html": [
       "<div>\n",
       "<style scoped>\n",
       "    .dataframe tbody tr th:only-of-type {\n",
       "        vertical-align: middle;\n",
       "    }\n",
       "\n",
       "    .dataframe tbody tr th {\n",
       "        vertical-align: top;\n",
       "    }\n",
       "\n",
       "    .dataframe thead th {\n",
       "        text-align: right;\n",
       "    }\n",
       "</style>\n",
       "<table border=\"1\" class=\"dataframe\">\n",
       "  <thead>\n",
       "    <tr style=\"text-align: right;\">\n",
       "      <th></th>\n",
       "      <th>SalePrice</th>\n",
       "      <th>YearBuilt</th>\n",
       "      <th>Size(sqf)</th>\n",
       "      <th>Floor</th>\n",
       "      <th>HallwayType</th>\n",
       "      <th>HeatingType</th>\n",
       "      <th>AptManageType</th>\n",
       "      <th>N_Parkinglot(Ground)</th>\n",
       "      <th>N_Parkinglot(Basement)</th>\n",
       "      <th>TimeToBusStop</th>\n",
       "      <th>TimeToSubway</th>\n",
       "      <th>N_manager</th>\n",
       "      <th>N_elevators</th>\n",
       "      <th>SubwayStation</th>\n",
       "      <th>N_FacilitiesInApt</th>\n",
       "      <th>N_FacilitiesNearBy(Total)</th>\n",
       "      <th>N_SchoolNearBy(Total)</th>\n",
       "    </tr>\n",
       "  </thead>\n",
       "  <tbody>\n",
       "    <tr>\n",
       "      <th>0</th>\n",
       "      <td>141592</td>\n",
       "      <td>2006</td>\n",
       "      <td>814</td>\n",
       "      <td>3</td>\n",
       "      <td>terraced</td>\n",
       "      <td>individual_heating</td>\n",
       "      <td>management_in_trust</td>\n",
       "      <td>111.0</td>\n",
       "      <td>184.0</td>\n",
       "      <td>5min~10min</td>\n",
       "      <td>10min~15min</td>\n",
       "      <td>3.0</td>\n",
       "      <td>0.0</td>\n",
       "      <td>Kyungbuk_uni_hospital</td>\n",
       "      <td>5</td>\n",
       "      <td>6.0</td>\n",
       "      <td>9.0</td>\n",
       "    </tr>\n",
       "    <tr>\n",
       "      <th>1</th>\n",
       "      <td>51327</td>\n",
       "      <td>1985</td>\n",
       "      <td>587</td>\n",
       "      <td>8</td>\n",
       "      <td>corridor</td>\n",
       "      <td>individual_heating</td>\n",
       "      <td>self_management</td>\n",
       "      <td>80.0</td>\n",
       "      <td>76.0</td>\n",
       "      <td>0~5min</td>\n",
       "      <td>5min~10min</td>\n",
       "      <td>2.0</td>\n",
       "      <td>2.0</td>\n",
       "      <td>Daegu</td>\n",
       "      <td>3</td>\n",
       "      <td>12.0</td>\n",
       "      <td>4.0</td>\n",
       "    </tr>\n",
       "    <tr>\n",
       "      <th>2</th>\n",
       "      <td>48672</td>\n",
       "      <td>1985</td>\n",
       "      <td>587</td>\n",
       "      <td>6</td>\n",
       "      <td>corridor</td>\n",
       "      <td>individual_heating</td>\n",
       "      <td>self_management</td>\n",
       "      <td>80.0</td>\n",
       "      <td>76.0</td>\n",
       "      <td>0~5min</td>\n",
       "      <td>5min~10min</td>\n",
       "      <td>2.0</td>\n",
       "      <td>2.0</td>\n",
       "      <td>Daegu</td>\n",
       "      <td>3</td>\n",
       "      <td>12.0</td>\n",
       "      <td>4.0</td>\n",
       "    </tr>\n",
       "    <tr>\n",
       "      <th>3</th>\n",
       "      <td>380530</td>\n",
       "      <td>2006</td>\n",
       "      <td>2056</td>\n",
       "      <td>8</td>\n",
       "      <td>terraced</td>\n",
       "      <td>individual_heating</td>\n",
       "      <td>management_in_trust</td>\n",
       "      <td>249.0</td>\n",
       "      <td>536.0</td>\n",
       "      <td>0~5min</td>\n",
       "      <td>0-5min</td>\n",
       "      <td>5.0</td>\n",
       "      <td>11.0</td>\n",
       "      <td>Sin-nam</td>\n",
       "      <td>5</td>\n",
       "      <td>3.0</td>\n",
       "      <td>7.0</td>\n",
       "    </tr>\n",
       "    <tr>\n",
       "      <th>4</th>\n",
       "      <td>78318</td>\n",
       "      <td>1992</td>\n",
       "      <td>644</td>\n",
       "      <td>2</td>\n",
       "      <td>mixed</td>\n",
       "      <td>individual_heating</td>\n",
       "      <td>self_management</td>\n",
       "      <td>142.0</td>\n",
       "      <td>79.0</td>\n",
       "      <td>5min~10min</td>\n",
       "      <td>15min~20min</td>\n",
       "      <td>4.0</td>\n",
       "      <td>8.0</td>\n",
       "      <td>Myung-duk</td>\n",
       "      <td>3</td>\n",
       "      <td>9.0</td>\n",
       "      <td>14.0</td>\n",
       "    </tr>\n",
       "  </tbody>\n",
       "</table>\n",
       "</div>"
      ],
      "text/plain": [
       "   SalePrice  YearBuilt  Size(sqf)  Floor HallwayType         HeatingType  \\\n",
       "0     141592       2006        814      3    terraced  individual_heating   \n",
       "1      51327       1985        587      8    corridor  individual_heating   \n",
       "2      48672       1985        587      6    corridor  individual_heating   \n",
       "3     380530       2006       2056      8    terraced  individual_heating   \n",
       "4      78318       1992        644      2       mixed  individual_heating   \n",
       "\n",
       "         AptManageType  N_Parkinglot(Ground)  N_Parkinglot(Basement)  \\\n",
       "0  management_in_trust                 111.0                   184.0   \n",
       "1      self_management                  80.0                    76.0   \n",
       "2      self_management                  80.0                    76.0   \n",
       "3  management_in_trust                 249.0                   536.0   \n",
       "4      self_management                 142.0                    79.0   \n",
       "\n",
       "  TimeToBusStop TimeToSubway  N_manager  N_elevators          SubwayStation  \\\n",
       "0    5min~10min  10min~15min        3.0          0.0  Kyungbuk_uni_hospital   \n",
       "1        0~5min   5min~10min        2.0          2.0                  Daegu   \n",
       "2        0~5min   5min~10min        2.0          2.0                  Daegu   \n",
       "3        0~5min       0-5min        5.0         11.0                Sin-nam   \n",
       "4    5min~10min  15min~20min        4.0          8.0              Myung-duk   \n",
       "\n",
       "   N_FacilitiesInApt  N_FacilitiesNearBy(Total)  N_SchoolNearBy(Total)  \n",
       "0                  5                        6.0                    9.0  \n",
       "1                  3                       12.0                    4.0  \n",
       "2                  3                       12.0                    4.0  \n",
       "3                  5                        3.0                    7.0  \n",
       "4                  3                        9.0                   14.0  "
      ]
     },
     "execution_count": 3,
     "metadata": {},
     "output_type": "execute_result"
    }
   ],
   "source": [
    "df = pd.read_csv(\"train_data.csv\", sep=',')\n",
    "df.head()"
   ]
  },
  {
   "cell_type": "code",
   "execution_count": 4,
   "metadata": {
    "tags": []
   },
   "outputs": [
    {
     "data": {
      "text/plain": [
       "count    4124.000000\n",
       "mean        4.558923\n",
       "std         1.801223\n",
       "min         0.000000\n",
       "25%         3.000000\n",
       "50%         5.000000\n",
       "75%         5.000000\n",
       "max         7.000000\n",
       "Name: YearBuilt, dtype: float64"
      ]
     },
     "execution_count": 4,
     "metadata": {},
     "output_type": "execute_result"
    }
   ],
   "source": [
    "#plt.hist(df[\"YearBuilt\"])\n",
    "#plt.show()\n",
    "class_nr = 0\n",
    "for i in range(df['YearBuilt'].min(), df['YearBuilt'].max(), 5):\n",
    "    df[\"YearBuilt\"].mask( (df['YearBuilt']>=i) & (df['YearBuilt'] < i+5), class_nr, inplace=True)\n",
    "    class_nr += 1\n",
    "df['YearBuilt'].describe()\n",
    "#plt.hist(df[\"YearBuilt\"])\n",
    "#plt.show()"
   ]
  },
  {
   "cell_type": "code",
   "execution_count": 5,
   "metadata": {
    "collapsed": false,
    "jupyter": {
     "outputs_hidden": false
    }
   },
   "outputs": [],
   "source": [
    "df['SalePrice'].mask(df['SalePrice'] <= CHEAP, 0, inplace=True)\n",
    "df['SalePrice'].mask((df['SalePrice'] > CHEAP) & (df['SalePrice'] <= EXPENSIVE), 1, inplace=True)\n",
    "df['SalePrice'].mask(df['SalePrice'] > EXPENSIVE, 2, inplace=True)\n",
    "\n",
    "\n",
    "categorical_columns = [\n",
    "    'YearBuilt', 'HallwayType', 'HeatingType',\n",
    "    'AptManageType', 'TimeToBusStop', 'TimeToSubway', 'SubwayStation',\n",
    "]\n",
    "categorical_values = pd.get_dummies(df[categorical_columns].astype(str))\n",
    "df.drop(columns=categorical_columns, inplace=True)"
   ]
  },
  {
   "cell_type": "code",
   "execution_count": 6,
   "metadata": {
    "collapsed": false,
    "jupyter": {
     "outputs_hidden": false
    }
   },
   "outputs": [
    {
     "name": "stdout",
     "output_type": "stream",
     "text": [
      "[ True False  True ...  True  True  True]\n",
      "[False  True False ... False False False]\n"
     ]
    }
   ],
   "source": [
    "train_indices = np.random.rand(len(df))>0.25\n",
    "print(train_indices)\n",
    "print(~train_indices)"
   ]
  },
  {
   "cell_type": "code",
   "execution_count": 7,
   "metadata": {},
   "outputs": [],
   "source": [
    "targets = df['SalePrice'][train_indices].to_numpy()\n",
    "test_targets = df['SalePrice'][~train_indices].to_numpy()\n",
    "\n",
    "df = df.drop('SalePrice', axis=1)\n",
    "\n",
    "numerical_data = df.values[train_indices,:]\n",
    "test_numerical_data = df.values[~train_indices,:]\n",
    "\n",
    "categorical_data = categorical_values.values[train_indices,:]\n",
    "test_categorical_data = categorical_values.values[~train_indices,:]"
   ]
  },
  {
   "cell_type": "code",
   "execution_count": 8,
   "metadata": {},
   "outputs": [],
   "source": [
    "ss = StandardScaler()\n",
    "numerical_data = ss.fit_transform(numerical_data)\n",
    "test_numerical_data = ss.transform(test_numerical_data)"
   ]
  },
  {
   "cell_type": "code",
   "execution_count": 9,
   "metadata": {},
   "outputs": [],
   "source": [
    "targets = torch.from_numpy(targets).float()\n",
    "test_targets = torch.from_numpy(test_targets).float()\n",
    "\n",
    "numerical_data = torch.from_numpy(numerical_data).float()\n",
    "test_numerical_data = torch.from_numpy(test_numerical_data).float()\n",
    "\n",
    "categorical_data = torch.from_numpy(categorical_data).float()\n",
    "test_categorical_data = torch.from_numpy(test_categorical_data).float()"
   ]
  },
  {
   "cell_type": "code",
   "execution_count": 10,
   "metadata": {
    "collapsed": false,
    "jupyter": {
     "outputs_hidden": false
    }
   },
   "outputs": [
    {
     "name": "stdout",
     "output_type": "stream",
     "text": [
      "torch.Size([3078, 9]) torch.Size([3078, 30])\n",
      "torch.Size([1046, 9]) torch.Size([1046, 30])\n",
      "tensor(404)\n",
      "tensor(2246)\n",
      "tensor(428)\n",
      "tensor(158)\n",
      "tensor(746)\n",
      "tensor(142)\n"
     ]
    }
   ],
   "source": [
    "train_dataset = data.TensorDataset(numerical_data, categorical_data, targets)\n",
    "test_dataset = data.TensorDataset(test_numerical_data, test_categorical_data, test_targets)\n",
    "print(train_dataset[:][0].shape, train_dataset[:][1].shape)\n",
    "print(test_dataset[:][0].shape, test_dataset[:][1].shape)\n",
    "print((train_dataset[:][2]==0).sum())\n",
    "print((train_dataset[:][2]==1).sum())\n",
    "print((train_dataset[:][2]==2).sum())\n",
    "\n",
    "print((test_dataset[:][2]==0).sum())\n",
    "print((test_dataset[:][2]==1).sum())\n",
    "print((test_dataset[:][2]==2).sum())"
   ]
  },
  {
   "cell_type": "code",
   "execution_count": 11,
   "metadata": {
    "collapsed": false,
    "jupyter": {
     "outputs_hidden": false
    }
   },
   "outputs": [],
   "source": [
    "class Model(nn.Module):\n",
    "    def __init__(self):\n",
    "        super().__init__()\n",
    "        self.emb_layer = nn.Linear(categorical_data.shape[1], categorical_data.shape[1])\n",
    "        self.act_emb = nn.Tanh()\n",
    "        self.layer1 = nn.Linear(numerical_data.shape[1] + categorical_data.shape[1], 256)\n",
    "        self.bn1 = nn.BatchNorm1d(256)\n",
    "        self.act_1 = nn.ReLU()\n",
    "        self.d1 = nn.Dropout(0.35)\n",
    "        self.layer2 = nn.Linear(256, 128)\n",
    "        self.bn2 = nn.BatchNorm1d(128)\n",
    "        self.act_2 = nn.ReLU()\n",
    "        self.d2 = nn.Dropout(0.35)\n",
    "        self.layer3 = nn.Linear(128, 3)\n",
    "\n",
    "\n",
    "    def forward(self, x, cat_x):\n",
    "        cat_x_embedded = self.emb_layer(cat_x)\n",
    "        cat_x_embedded = self.act_emb(cat_x_embedded)\n",
    "        x = torch.cat([x,cat_x_embedded],dim=1)\n",
    "        x = self.layer1(x)\n",
    "        x = self.bn1(x)\n",
    "        x = self.act_1(x)\n",
    "        x = self.d1(x)\n",
    "        x = self.layer2(x)\n",
    "        x = self.bn2(x)\n",
    "        x = self.act_2(x)\n",
    "        x = self.d2(x)\n",
    "        output = self.layer3(x)\n",
    "        return output"
   ]
  },
  {
   "cell_type": "code",
   "execution_count": 12,
   "metadata": {},
   "outputs": [
    {
     "data": {
      "text/plain": [
       "tensor([1.5000, 0.9000, 2.5000])"
      ]
     },
     "execution_count": 12,
     "metadata": {},
     "output_type": "execute_result"
    }
   ],
   "source": [
    "class_weights = compute_class_weight('balanced', classes=np.unique(train_dataset[:][2]), y=train_dataset[:][2].numpy())\n",
    "class_weights = torch.tensor(class_weights,dtype=torch.float)\n",
    "class_weights = torch.from_numpy(np.array([1.5,0.9,2.5])).float()\n",
    "class_weights"
   ]
  },
  {
   "cell_type": "code",
   "execution_count": 13,
   "metadata": {
    "tags": []
   },
   "outputs": [],
   "source": [
    "LEARN_RATE = 0.0001\n",
    "NUM_EPOCHS = 25\n",
    "\n",
    "model = Model()\n",
    "model.to(\"cpu\")\n",
    "optimizer = torch.optim.Adam(model.parameters(), lr=LEARN_RATE, weight_decay=0.1)\n",
    "loss_fn = nn.CrossEntropyLoss(weight=class_weights, reduction='mean')\n",
    "train_data_loader = data.DataLoader(train_dataset, batch_size=32, shuffle=True)\n",
    "test_data_loader = data.DataLoader(test_dataset, batch_size=32, shuffle=True)"
   ]
  },
  {
   "cell_type": "code",
   "execution_count": 14,
   "metadata": {
    "collapsed": false,
    "jupyter": {
     "outputs_hidden": false
    }
   },
   "outputs": [
    {
     "name": "stdout",
     "output_type": "stream",
     "text": [
      "Epoch: 0, loss: 0.844\n",
      "Epoch: 1, loss: 0.647\n",
      "Epoch: 2, loss: 0.57\n",
      "Epoch: 3, loss: 0.535\n",
      "Epoch: 4, loss: 0.508\n",
      "Epoch: 5, loss: 0.501\n",
      "Epoch: 6, loss: 0.47\n",
      "Epoch: 7, loss: 0.473\n",
      "Epoch: 8, loss: 0.468\n",
      "Epoch: 9, loss: 0.458\n",
      "Epoch: 10, loss: 0.449\n",
      "Epoch: 11, loss: 0.447\n",
      "Epoch: 12, loss: 0.459\n",
      "Epoch: 13, loss: 0.431\n",
      "Epoch: 14, loss: 0.428\n",
      "Epoch: 15, loss: 0.438\n",
      "Epoch: 16, loss: 0.439\n",
      "Epoch: 17, loss: 0.423\n",
      "Epoch: 18, loss: 0.423\n",
      "Epoch: 19, loss: 0.413\n",
      "Epoch: 20, loss: 0.425\n",
      "Epoch: 21, loss: 0.419\n",
      "Epoch: 22, loss: 0.415\n",
      "Epoch: 23, loss: 0.424\n",
      "Epoch: 24, loss: 0.42\n"
     ]
    },
    {
     "data": {
      "text/plain": [
       "[<matplotlib.lines.Line2D at 0x1ff2db02fa0>]"
      ]
     },
     "execution_count": 14,
     "metadata": {},
     "output_type": "execute_result"
    },
    {
     "data": {
      "image/png": "[encoded data removed]",
      "text/plain": [
       "<Figure size 640x480 with 1 Axes>"
      ]
     },
     "metadata": {},
     "output_type": "display_data"
    }
   ],
   "source": [
    "model.train()\n",
    "losses = []\n",
    "losses_epoch = []\n",
    "\n",
    "for epoch in range(NUM_EPOCHS):\n",
    "    losses_epoch = []\n",
    "    for x, cat_x, labels in train_data_loader:\n",
    "        predictions = model(x, cat_x).squeeze(dim=1)\n",
    "        loss = loss_fn(predictions, labels.long())\n",
    "        loss.backward()\n",
    "        optimizer.step()\n",
    "        optimizer.zero_grad()\n",
    "        losses_epoch.append(loss.item())\n",
    "    losses.append(np.mean(losses_epoch))\n",
    "    print(f\"Epoch: {epoch}, loss: {losses[-1]:.3}\")\n",
    "plt.plot(losses)"
   ]
  },
  {
   "cell_type": "code",
   "execution_count": 15,
   "metadata": {
    "collapsed": false,
    "jupyter": {
     "outputs_hidden": false
    }
   },
   "outputs": [
    {
     "name": "stdout",
     "output_type": "stream",
     "text": [
      "Accuracy of the model: 83.94%\n",
      "Cheap Accuracy of the model: 85.44%\n",
      "Average Accuracy of the model: 82.57%\n",
      "Expensive Accuracy of the model: 89.44%\n",
      "Mean accuracy 0.8581779599189758\n"
     ]
    }
   ],
   "source": [
    "model.eval()\n",
    "\n",
    "true_predictions, num_predictions = 0., 0.\n",
    "true_predictions_cheap = 0.\n",
    "true_predictions_expensive = 0.\n",
    "true_predictions_average = 0.\n",
    "\n",
    "\n",
    "with torch.no_grad():\n",
    "        predictions = model(test_dataset[:][0], test_dataset[:][1])\n",
    "        labels = test_dataset[:][2]\n",
    "        prediction_labels = torch.max(predictions.data, 1).indices\n",
    "        true_predictions += (prediction_labels == labels).sum()\n",
    "        true_predictions_cheap += (torch.logical_and(prediction_labels == labels, prediction_labels == 0)).sum()\n",
    "        true_predictions_average += (torch.logical_and(prediction_labels == labels, prediction_labels == 1)).sum()\n",
    "        true_predictions_expensive += (torch.logical_and(prediction_labels == labels, prediction_labels == 2)).sum()\n",
    "        num_predictions += labels.shape[0]\n",
    "acc = true_predictions / num_predictions\n",
    "acc_cheap = true_predictions_cheap / (labels == 0).sum()\n",
    "acc_average = true_predictions_average / (labels == 1).sum()\n",
    "acc_expensive = true_predictions_expensive / (labels == 2).sum()\n",
    "\n",
    "print(f\"Accuracy of the model: {100.0*acc:4.2f}%\")\n",
    "print(f\"Cheap Accuracy of the model: {100.0*acc_cheap:4.2f}%\")\n",
    "print(f\"Average Accuracy of the model: {100.0*acc_average:4.2f}%\")\n",
    "print(f\"Expensive Accuracy of the model: {100.0*acc_expensive:4.2f}%\")\n",
    "\n",
    "print(f\"Mean accuracy { (acc_expensive+acc_average+acc_cheap) / 3}\")"
   ]
  }
 ],
 "metadata": {
  "kernelspec": {
   "display_name": "Python 3 (ipykernel)",
   "language": "python",
   "name": "python3"
  },
  "language_info": {
   "codemirror_mode": {
    "name": "ipython",
    "version": 3
   },
   "file_extension": ".py",
   "mimetype": "text/x-python",
   "name": "python",
   "nbconvert_exporter": "python",
   "pygments_lexer": "ipython3",
   "version": "3.9.0"
  }
 },
 "nbformat": 4,
 "nbformat_minor": 4
}
