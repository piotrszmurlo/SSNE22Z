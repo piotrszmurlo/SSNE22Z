{
 "cells": [
  {
   "cell_type": "code",
   "execution_count": 1,
   "metadata": {
    "tags": []
   },
   "outputs": [],
   "source": [
    "import torch.utils.data as data\n",
    "from sklearn.preprocessing import StandardScaler\n",
    "import numpy as np\n",
    "import torch\n",
    "import torch.nn as nn\n",
    "import torch.nn.functional as F\n",
    "import pandas as pd\n",
    "import matplotlib.pyplot as plt\n",
    "from sklearn.utils.class_weight import compute_class_weight\n",
    "import copy"
   ]
  },
  {
   "cell_type": "code",
   "execution_count": 2,
   "metadata": {
    "collapsed": false,
    "jupyter": {
     "outputs_hidden": false
    }
   },
   "outputs": [],
   "source": [
    "CHEAP = 100_000\n",
    "EXPENSIVE = 350_000\n",
    "SEED = 150\n",
    "torch.manual_seed(SEED)\n",
    "np.random.seed(SEED)"
   ]
  },
  {
   "cell_type": "code",
   "execution_count": 3,
   "metadata": {},
   "outputs": [
    {
     "data": {
      "text/html": [
       "<div>\n",
       "<style scoped>\n",
       "    .dataframe tbody tr th:only-of-type {\n",
       "        vertical-align: middle;\n",
       "    }\n",
       "\n",
       "    .dataframe tbody tr th {\n",
       "        vertical-align: top;\n",
       "    }\n",
       "\n",
       "    .dataframe thead th {\n",
       "        text-align: right;\n",
       "    }\n",
       "</style>\n",
       "<table border=\"1\" class=\"dataframe\">\n",
       "  <thead>\n",
       "    <tr style=\"text-align: right;\">\n",
       "      <th></th>\n",
       "      <th>SalePrice</th>\n",
       "      <th>YearBuilt</th>\n",
       "      <th>Size(sqf)</th>\n",
       "      <th>Floor</th>\n",
       "      <th>HallwayType</th>\n",
       "      <th>HeatingType</th>\n",
       "      <th>AptManageType</th>\n",
       "      <th>N_Parkinglot(Ground)</th>\n",
       "      <th>N_Parkinglot(Basement)</th>\n",
       "      <th>TimeToBusStop</th>\n",
       "      <th>TimeToSubway</th>\n",
       "      <th>N_manager</th>\n",
       "      <th>N_elevators</th>\n",
       "      <th>SubwayStation</th>\n",
       "      <th>N_FacilitiesInApt</th>\n",
       "      <th>N_FacilitiesNearBy(Total)</th>\n",
       "      <th>N_SchoolNearBy(Total)</th>\n",
       "    </tr>\n",
       "  </thead>\n",
       "  <tbody>\n",
       "    <tr>\n",
       "      <th>0</th>\n",
       "      <td>141592</td>\n",
       "      <td>2006</td>\n",
       "      <td>814</td>\n",
       "      <td>3</td>\n",
       "      <td>terraced</td>\n",
       "      <td>individual_heating</td>\n",
       "      <td>management_in_trust</td>\n",
       "      <td>111.0</td>\n",
       "      <td>184.0</td>\n",
       "      <td>5min~10min</td>\n",
       "      <td>10min~15min</td>\n",
       "      <td>3.0</td>\n",
       "      <td>0.0</td>\n",
       "      <td>Kyungbuk_uni_hospital</td>\n",
       "      <td>5</td>\n",
       "      <td>6.0</td>\n",
       "      <td>9.0</td>\n",
       "    </tr>\n",
       "    <tr>\n",
       "      <th>1</th>\n",
       "      <td>51327</td>\n",
       "      <td>1985</td>\n",
       "      <td>587</td>\n",
       "      <td>8</td>\n",
       "      <td>corridor</td>\n",
       "      <td>individual_heating</td>\n",
       "      <td>self_management</td>\n",
       "      <td>80.0</td>\n",
       "      <td>76.0</td>\n",
       "      <td>0~5min</td>\n",
       "      <td>5min~10min</td>\n",
       "      <td>2.0</td>\n",
       "      <td>2.0</td>\n",
       "      <td>Daegu</td>\n",
       "      <td>3</td>\n",
       "      <td>12.0</td>\n",
       "      <td>4.0</td>\n",
       "    </tr>\n",
       "    <tr>\n",
       "      <th>2</th>\n",
       "      <td>48672</td>\n",
       "      <td>1985</td>\n",
       "      <td>587</td>\n",
       "      <td>6</td>\n",
       "      <td>corridor</td>\n",
       "      <td>individual_heating</td>\n",
       "      <td>self_management</td>\n",
       "      <td>80.0</td>\n",
       "      <td>76.0</td>\n",
       "      <td>0~5min</td>\n",
       "      <td>5min~10min</td>\n",
       "      <td>2.0</td>\n",
       "      <td>2.0</td>\n",
       "      <td>Daegu</td>\n",
       "      <td>3</td>\n",
       "      <td>12.0</td>\n",
       "      <td>4.0</td>\n",
       "    </tr>\n",
       "    <tr>\n",
       "      <th>3</th>\n",
       "      <td>380530</td>\n",
       "      <td>2006</td>\n",
       "      <td>2056</td>\n",
       "      <td>8</td>\n",
       "      <td>terraced</td>\n",
       "      <td>individual_heating</td>\n",
       "      <td>management_in_trust</td>\n",
       "      <td>249.0</td>\n",
       "      <td>536.0</td>\n",
       "      <td>0~5min</td>\n",
       "      <td>0-5min</td>\n",
       "      <td>5.0</td>\n",
       "      <td>11.0</td>\n",
       "      <td>Sin-nam</td>\n",
       "      <td>5</td>\n",
       "      <td>3.0</td>\n",
       "      <td>7.0</td>\n",
       "    </tr>\n",
       "    <tr>\n",
       "      <th>4</th>\n",
       "      <td>78318</td>\n",
       "      <td>1992</td>\n",
       "      <td>644</td>\n",
       "      <td>2</td>\n",
       "      <td>mixed</td>\n",
       "      <td>individual_heating</td>\n",
       "      <td>self_management</td>\n",
       "      <td>142.0</td>\n",
       "      <td>79.0</td>\n",
       "      <td>5min~10min</td>\n",
       "      <td>15min~20min</td>\n",
       "      <td>4.0</td>\n",
       "      <td>8.0</td>\n",
       "      <td>Myung-duk</td>\n",
       "      <td>3</td>\n",
       "      <td>9.0</td>\n",
       "      <td>14.0</td>\n",
       "    </tr>\n",
       "  </tbody>\n",
       "</table>\n",
       "</div>"
      ],
      "text/plain": [
       "   SalePrice  YearBuilt  Size(sqf)  Floor HallwayType         HeatingType  \\\n",
       "0     141592       2006        814      3    terraced  individual_heating   \n",
       "1      51327       1985        587      8    corridor  individual_heating   \n",
       "2      48672       1985        587      6    corridor  individual_heating   \n",
       "3     380530       2006       2056      8    terraced  individual_heating   \n",
       "4      78318       1992        644      2       mixed  individual_heating   \n",
       "\n",
       "         AptManageType  N_Parkinglot(Ground)  N_Parkinglot(Basement)  \\\n",
       "0  management_in_trust                 111.0                   184.0   \n",
       "1      self_management                  80.0                    76.0   \n",
       "2      self_management                  80.0                    76.0   \n",
       "3  management_in_trust                 249.0                   536.0   \n",
       "4      self_management                 142.0                    79.0   \n",
       "\n",
       "  TimeToBusStop TimeToSubway  N_manager  N_elevators          SubwayStation  \\\n",
       "0    5min~10min  10min~15min        3.0          0.0  Kyungbuk_uni_hospital   \n",
       "1        0~5min   5min~10min        2.0          2.0                  Daegu   \n",
       "2        0~5min   5min~10min        2.0          2.0                  Daegu   \n",
       "3        0~5min       0-5min        5.0         11.0                Sin-nam   \n",
       "4    5min~10min  15min~20min        4.0          8.0              Myung-duk   \n",
       "\n",
       "   N_FacilitiesInApt  N_FacilitiesNearBy(Total)  N_SchoolNearBy(Total)  \n",
       "0                  5                        6.0                    9.0  \n",
       "1                  3                       12.0                    4.0  \n",
       "2                  3                       12.0                    4.0  \n",
       "3                  5                        3.0                    7.0  \n",
       "4                  3                        9.0                   14.0  "
      ]
     },
     "execution_count": 3,
     "metadata": {},
     "output_type": "execute_result"
    }
   ],
   "source": [
    "df = pd.read_csv(\"train_data.csv\", sep=',')\n",
    "df.head()"
   ]
  },
  {
   "cell_type": "code",
   "execution_count": 4,
   "metadata": {
    "tags": []
   },
   "outputs": [
    {
     "data": {
      "text/plain": [
       "count    4124.000000\n",
       "mean        4.558923\n",
       "std         1.801223\n",
       "min         0.000000\n",
       "25%         3.000000\n",
       "50%         5.000000\n",
       "75%         5.000000\n",
       "max         7.000000\n",
       "Name: YearBuilt, dtype: float64"
      ]
     },
     "execution_count": 4,
     "metadata": {},
     "output_type": "execute_result"
    }
   ],
   "source": [
    "#plt.hist(df[\"YearBuilt\"])\n",
    "#plt.show()\n",
    "class_nr = 0\n",
    "for i in range(df['YearBuilt'].min(), df['YearBuilt'].max(), 5):\n",
    "    df[\"YearBuilt\"].mask( (df['YearBuilt']>=i) & (df['YearBuilt'] < i+5), class_nr, inplace=True)\n",
    "    class_nr += 1\n",
    "df['YearBuilt'].describe()\n",
    "#plt.hist(df[\"YearBuilt\"])\n",
    "#plt.show()"
   ]
  },
  {
   "cell_type": "code",
   "execution_count": 5,
   "metadata": {
    "collapsed": false,
    "jupyter": {
     "outputs_hidden": false
    }
   },
   "outputs": [
    {
     "data": {
      "text/html": [
       "<div>\n",
       "<style scoped>\n",
       "    .dataframe tbody tr th:only-of-type {\n",
       "        vertical-align: middle;\n",
       "    }\n",
       "\n",
       "    .dataframe tbody tr th {\n",
       "        vertical-align: top;\n",
       "    }\n",
       "\n",
       "    .dataframe thead th {\n",
       "        text-align: right;\n",
       "    }\n",
       "</style>\n",
       "<table border=\"1\" class=\"dataframe\">\n",
       "  <thead>\n",
       "    <tr style=\"text-align: right;\">\n",
       "      <th></th>\n",
       "      <th>YearBuilt_0</th>\n",
       "      <th>YearBuilt_1</th>\n",
       "      <th>YearBuilt_2</th>\n",
       "      <th>YearBuilt_3</th>\n",
       "      <th>YearBuilt_5</th>\n",
       "      <th>YearBuilt_6</th>\n",
       "      <th>YearBuilt_7</th>\n",
       "      <th>HallwayType_corridor</th>\n",
       "      <th>HallwayType_mixed</th>\n",
       "      <th>HallwayType_terraced</th>\n",
       "      <th>...</th>\n",
       "      <th>TimeToSubway_5min~10min</th>\n",
       "      <th>TimeToSubway_no_bus_stop_nearby</th>\n",
       "      <th>SubwayStation_Bangoge</th>\n",
       "      <th>SubwayStation_Banwoldang</th>\n",
       "      <th>SubwayStation_Chil-sung-market</th>\n",
       "      <th>SubwayStation_Daegu</th>\n",
       "      <th>SubwayStation_Kyungbuk_uni_hospital</th>\n",
       "      <th>SubwayStation_Myung-duk</th>\n",
       "      <th>SubwayStation_Sin-nam</th>\n",
       "      <th>SubwayStation_no_subway_nearby</th>\n",
       "    </tr>\n",
       "  </thead>\n",
       "  <tbody>\n",
       "    <tr>\n",
       "      <th>0</th>\n",
       "      <td>0</td>\n",
       "      <td>0</td>\n",
       "      <td>0</td>\n",
       "      <td>0</td>\n",
       "      <td>1</td>\n",
       "      <td>0</td>\n",
       "      <td>0</td>\n",
       "      <td>0</td>\n",
       "      <td>0</td>\n",
       "      <td>1</td>\n",
       "      <td>...</td>\n",
       "      <td>0</td>\n",
       "      <td>0</td>\n",
       "      <td>0</td>\n",
       "      <td>0</td>\n",
       "      <td>0</td>\n",
       "      <td>0</td>\n",
       "      <td>1</td>\n",
       "      <td>0</td>\n",
       "      <td>0</td>\n",
       "      <td>0</td>\n",
       "    </tr>\n",
       "    <tr>\n",
       "      <th>1</th>\n",
       "      <td>0</td>\n",
       "      <td>1</td>\n",
       "      <td>0</td>\n",
       "      <td>0</td>\n",
       "      <td>0</td>\n",
       "      <td>0</td>\n",
       "      <td>0</td>\n",
       "      <td>1</td>\n",
       "      <td>0</td>\n",
       "      <td>0</td>\n",
       "      <td>...</td>\n",
       "      <td>1</td>\n",
       "      <td>0</td>\n",
       "      <td>0</td>\n",
       "      <td>0</td>\n",
       "      <td>0</td>\n",
       "      <td>1</td>\n",
       "      <td>0</td>\n",
       "      <td>0</td>\n",
       "      <td>0</td>\n",
       "      <td>0</td>\n",
       "    </tr>\n",
       "    <tr>\n",
       "      <th>2</th>\n",
       "      <td>0</td>\n",
       "      <td>1</td>\n",
       "      <td>0</td>\n",
       "      <td>0</td>\n",
       "      <td>0</td>\n",
       "      <td>0</td>\n",
       "      <td>0</td>\n",
       "      <td>1</td>\n",
       "      <td>0</td>\n",
       "      <td>0</td>\n",
       "      <td>...</td>\n",
       "      <td>1</td>\n",
       "      <td>0</td>\n",
       "      <td>0</td>\n",
       "      <td>0</td>\n",
       "      <td>0</td>\n",
       "      <td>1</td>\n",
       "      <td>0</td>\n",
       "      <td>0</td>\n",
       "      <td>0</td>\n",
       "      <td>0</td>\n",
       "    </tr>\n",
       "    <tr>\n",
       "      <th>3</th>\n",
       "      <td>0</td>\n",
       "      <td>0</td>\n",
       "      <td>0</td>\n",
       "      <td>0</td>\n",
       "      <td>1</td>\n",
       "      <td>0</td>\n",
       "      <td>0</td>\n",
       "      <td>0</td>\n",
       "      <td>0</td>\n",
       "      <td>1</td>\n",
       "      <td>...</td>\n",
       "      <td>0</td>\n",
       "      <td>0</td>\n",
       "      <td>0</td>\n",
       "      <td>0</td>\n",
       "      <td>0</td>\n",
       "      <td>0</td>\n",
       "      <td>0</td>\n",
       "      <td>0</td>\n",
       "      <td>1</td>\n",
       "      <td>0</td>\n",
       "    </tr>\n",
       "    <tr>\n",
       "      <th>4</th>\n",
       "      <td>0</td>\n",
       "      <td>0</td>\n",
       "      <td>1</td>\n",
       "      <td>0</td>\n",
       "      <td>0</td>\n",
       "      <td>0</td>\n",
       "      <td>0</td>\n",
       "      <td>0</td>\n",
       "      <td>1</td>\n",
       "      <td>0</td>\n",
       "      <td>...</td>\n",
       "      <td>0</td>\n",
       "      <td>0</td>\n",
       "      <td>0</td>\n",
       "      <td>0</td>\n",
       "      <td>0</td>\n",
       "      <td>0</td>\n",
       "      <td>0</td>\n",
       "      <td>1</td>\n",
       "      <td>0</td>\n",
       "      <td>0</td>\n",
       "    </tr>\n",
       "  </tbody>\n",
       "</table>\n",
       "<p>5 rows × 30 columns</p>\n",
       "</div>"
      ],
      "text/plain": [
       "   YearBuilt_0  YearBuilt_1  YearBuilt_2  YearBuilt_3  YearBuilt_5  \\\n",
       "0            0            0            0            0            1   \n",
       "1            0            1            0            0            0   \n",
       "2            0            1            0            0            0   \n",
       "3            0            0            0            0            1   \n",
       "4            0            0            1            0            0   \n",
       "\n",
       "   YearBuilt_6  YearBuilt_7  HallwayType_corridor  HallwayType_mixed  \\\n",
       "0            0            0                     0                  0   \n",
       "1            0            0                     1                  0   \n",
       "2            0            0                     1                  0   \n",
       "3            0            0                     0                  0   \n",
       "4            0            0                     0                  1   \n",
       "\n",
       "   HallwayType_terraced  ...  TimeToSubway_5min~10min  \\\n",
       "0                     1  ...                        0   \n",
       "1                     0  ...                        1   \n",
       "2                     0  ...                        1   \n",
       "3                     1  ...                        0   \n",
       "4                     0  ...                        0   \n",
       "\n",
       "   TimeToSubway_no_bus_stop_nearby  SubwayStation_Bangoge  \\\n",
       "0                                0                      0   \n",
       "1                                0                      0   \n",
       "2                                0                      0   \n",
       "3                                0                      0   \n",
       "4                                0                      0   \n",
       "\n",
       "   SubwayStation_Banwoldang  SubwayStation_Chil-sung-market  \\\n",
       "0                         0                               0   \n",
       "1                         0                               0   \n",
       "2                         0                               0   \n",
       "3                         0                               0   \n",
       "4                         0                               0   \n",
       "\n",
       "   SubwayStation_Daegu  SubwayStation_Kyungbuk_uni_hospital  \\\n",
       "0                    0                                    1   \n",
       "1                    1                                    0   \n",
       "2                    1                                    0   \n",
       "3                    0                                    0   \n",
       "4                    0                                    0   \n",
       "\n",
       "   SubwayStation_Myung-duk  SubwayStation_Sin-nam  \\\n",
       "0                        0                      0   \n",
       "1                        0                      0   \n",
       "2                        0                      0   \n",
       "3                        0                      1   \n",
       "4                        1                      0   \n",
       "\n",
       "   SubwayStation_no_subway_nearby  \n",
       "0                               0  \n",
       "1                               0  \n",
       "2                               0  \n",
       "3                               0  \n",
       "4                               0  \n",
       "\n",
       "[5 rows x 30 columns]"
      ]
     },
     "execution_count": 5,
     "metadata": {},
     "output_type": "execute_result"
    }
   ],
   "source": [
    "df['SalePrice'].mask(df['SalePrice'] <= CHEAP, 0, inplace=True)\n",
    "df['SalePrice'].mask((df['SalePrice'] > CHEAP) & (df['SalePrice'] <= EXPENSIVE), 1, inplace=True)\n",
    "df['SalePrice'].mask(df['SalePrice'] > EXPENSIVE, 2, inplace=True)\n",
    "\n",
    "\n",
    "categorical_columns = [\n",
    "    'YearBuilt', 'HallwayType', 'HeatingType',\n",
    "    'AptManageType', 'TimeToBusStop', 'TimeToSubway', 'SubwayStation',\n",
    "]\n",
    "categorical_values = pd.get_dummies(df[categorical_columns].astype(str))\n",
    "df.drop(columns=categorical_columns, inplace=True)\n",
    "categorical_values.head()"
   ]
  },
  {
   "cell_type": "code",
   "execution_count": 6,
   "metadata": {
    "collapsed": false,
    "jupyter": {
     "outputs_hidden": false
    }
   },
   "outputs": [
    {
     "name": "stdout",
     "output_type": "stream",
     "text": [
      "[ True  True  True ...  True  True False]\n",
      "[False False False ... False False  True]\n"
     ]
    }
   ],
   "source": [
    "train_indices = np.random.rand(len(df))>0.25\n",
    "print(train_indices)\n",
    "print(~train_indices)"
   ]
  },
  {
   "cell_type": "code",
   "execution_count": 7,
   "metadata": {},
   "outputs": [],
   "source": [
    "targets = df['SalePrice'][train_indices].to_numpy()\n",
    "test_targets = df['SalePrice'][~train_indices].to_numpy()\n",
    "\n",
    "df = df.drop('SalePrice', axis=1)\n",
    "\n",
    "numerical_data = df.values[train_indices,:]\n",
    "test_numerical_data = df.values[~train_indices,:]\n",
    "\n",
    "categorical_data = categorical_values.values[train_indices,:]\n",
    "test_categorical_data = categorical_values.values[~train_indices,:]"
   ]
  },
  {
   "cell_type": "code",
   "execution_count": 8,
   "metadata": {},
   "outputs": [],
   "source": [
    "ss = StandardScaler()\n",
    "numerical_data = ss.fit_transform(numerical_data)\n",
    "test_numerical_data = ss.transform(test_numerical_data)"
   ]
  },
  {
   "cell_type": "code",
   "execution_count": 9,
   "metadata": {},
   "outputs": [],
   "source": [
    "targets = torch.from_numpy(targets).float()\n",
    "test_targets = torch.from_numpy(test_targets).float()\n",
    "\n",
    "numerical_data = torch.from_numpy(numerical_data).float()\n",
    "test_numerical_data = torch.from_numpy(test_numerical_data).float()\n",
    "\n",
    "categorical_data = torch.from_numpy(categorical_data).float()\n",
    "test_categorical_data = torch.from_numpy(test_categorical_data).float()"
   ]
  },
  {
   "cell_type": "code",
   "execution_count": 10,
   "metadata": {
    "collapsed": false,
    "jupyter": {
     "outputs_hidden": false
    }
   },
   "outputs": [
    {
     "name": "stdout",
     "output_type": "stream",
     "text": [
      "torch.Size([3070, 9]) torch.Size([3070, 30])\n",
      "torch.Size([1054, 9]) torch.Size([1054, 30])\n",
      "tensor(410)\n",
      "tensor(2229)\n",
      "tensor(431)\n",
      "tensor(152)\n",
      "tensor(763)\n",
      "tensor(139)\n"
     ]
    }
   ],
   "source": [
    "train_dataset = data.TensorDataset(numerical_data, categorical_data, targets)\n",
    "test_dataset = data.TensorDataset(test_numerical_data, test_categorical_data, test_targets)\n",
    "print(train_dataset[:][0].shape, train_dataset[:][1].shape)\n",
    "print(test_dataset[:][0].shape, test_dataset[:][1].shape)\n",
    "print((train_dataset[:][2]==0).sum())\n",
    "print((train_dataset[:][2]==1).sum())\n",
    "print((train_dataset[:][2]==2).sum())\n",
    "\n",
    "print((test_dataset[:][2]==0).sum())\n",
    "print((test_dataset[:][2]==1).sum())\n",
    "print((test_dataset[:][2]==2).sum())"
   ]
  },
  {
   "cell_type": "code",
   "execution_count": 11,
   "metadata": {
    "collapsed": false,
    "jupyter": {
     "outputs_hidden": false
    }
   },
   "outputs": [],
   "source": [
    "class Model(nn.Module):\n",
    "    def __init__(self):\n",
    "        super().__init__()\n",
    "        self.emb_layer = nn.Linear(categorical_data.shape[1], categorical_data.shape[1])\n",
    "        self.act_emb = nn.Tanh()\n",
    "        self.layer1 = nn.Linear(numerical_data.shape[1] + categorical_data.shape[1], 128)\n",
    "        self.bn1 = nn.BatchNorm1d(128)\n",
    "        self.act_1 = nn.ReLU()\n",
    "        self.d1 = nn.Dropout(0.35)\n",
    "        self.layer2 = nn.Linear(128, 64)\n",
    "        self.bn2 = nn.BatchNorm1d(64)\n",
    "        self.act_2 = nn.ReLU()\n",
    "        self.d2 = nn.Dropout(0.35)\n",
    "        self.layer3 = nn.Linear(64, 3)\n",
    "\n",
    "\n",
    "    def forward(self, x, cat_x):\n",
    "        cat_x_embedded = self.emb_layer(cat_x)\n",
    "        cat_x_embedded = self.act_emb(cat_x_embedded)\n",
    "        x = torch.cat([x,cat_x_embedded],dim=1)\n",
    "        x = self.layer1(x)\n",
    "        x = self.bn1(x)\n",
    "        x = self.act_1(x)\n",
    "        x = self.d1(x)\n",
    "        x = self.layer2(x)\n",
    "        x = self.bn2(x)\n",
    "        x = self.act_2(x)\n",
    "        x = self.d2(x)\n",
    "        output = self.layer3(x)\n",
    "        return output"
   ]
  },
  {
   "cell_type": "code",
   "execution_count": 12,
   "metadata": {},
   "outputs": [
    {
     "data": {
      "text/plain": [
       "tensor([2., 1., 2.])"
      ]
     },
     "execution_count": 12,
     "metadata": {},
     "output_type": "execute_result"
    }
   ],
   "source": [
    "class_weights = compute_class_weight('balanced', classes=np.unique(train_dataset[:][2]), y=train_dataset[:][2].numpy())\n",
    "class_weights = torch.tensor(class_weights,dtype=torch.float)\n",
    "class_weights = torch.from_numpy(np.array([2,1,2])).float()\n",
    "class_weights"
   ]
  },
  {
   "cell_type": "code",
   "execution_count": 13,
   "metadata": {
    "tags": []
   },
   "outputs": [],
   "source": [
    "LEARN_RATE = 0.0001\n",
    "NUM_EPOCHS = 30\n",
    "\n",
    "model = Model()\n",
    "model.to(\"cpu\")\n",
    "optimizer = torch.optim.Adam(model.parameters(), lr=LEARN_RATE, weight_decay=0.1)\n",
    "loss_fn = nn.CrossEntropyLoss(weight=class_weights, reduction='mean')\n",
    "train_data_loader = data.DataLoader(train_dataset, batch_size=32, shuffle=True)\n",
    "test_data_loader = data.DataLoader(test_dataset, batch_size=32, shuffle=True)"
   ]
  },
  {
   "cell_type": "code",
   "execution_count": 14,
   "metadata": {
    "collapsed": false,
    "jupyter": {
     "outputs_hidden": false
    }
   },
   "outputs": [
    {
     "name": "stdout",
     "output_type": "stream",
     "text": [
      "Epoch: 0, loss train: 0.992, loss valid: 0.91\n",
      "Epoch: 1, loss train: 0.841, loss valid: 0.713\n",
      "Epoch: 2, loss train: 0.759, loss valid: 0.789\n",
      "Epoch: 3, loss train: 0.692, loss valid: 0.724\n",
      "Epoch: 4, loss train: 0.645, loss valid: 0.756\n",
      "Epoch: 5, loss train: 0.609, loss valid: 0.547\n",
      "Epoch: 6, loss train: 0.571, loss valid: 0.551\n",
      "Epoch: 7, loss train: 0.56, loss valid: 0.413\n",
      "Epoch: 8, loss train: 0.535, loss valid: 0.6\n",
      "Epoch: 9, loss train: 0.528, loss valid: 0.395\n",
      "Epoch: 10, loss train: 0.522, loss valid: 0.47\n",
      "Epoch: 11, loss train: 0.522, loss valid: 0.516\n",
      "Epoch: 12, loss train: 0.493, loss valid: 0.568\n",
      "Epoch: 13, loss train: 0.502, loss valid: 0.616\n",
      "Epoch: 14, loss train: 0.488, loss valid: 0.48\n",
      "Epoch: 15, loss train: 0.484, loss valid: 0.556\n",
      "Epoch: 16, loss train: 0.478, loss valid: 0.374\n",
      "Epoch: 17, loss train: 0.466, loss valid: 0.339\n",
      "Epoch: 18, loss train: 0.46, loss valid: 0.442\n",
      "Epoch: 19, loss train: 0.471, loss valid: 0.439\n",
      "Epoch: 20, loss train: 0.464, loss valid: 0.42\n",
      "Epoch: 21, loss train: 0.462, loss valid: 0.47\n",
      "Epoch: 22, loss train: 0.465, loss valid: 0.382\n",
      "Epoch: 23, loss train: 0.453, loss valid: 0.482\n",
      "Epoch: 24, loss train: 0.456, loss valid: 0.364\n",
      "Epoch: 25, loss train: 0.455, loss valid: 0.605\n",
      "Epoch: 26, loss train: 0.448, loss valid: 0.41\n",
      "Epoch: 27, loss train: 0.455, loss valid: 0.619\n",
      "Epoch: 28, loss train: 0.459, loss valid: 0.554\n",
      "Epoch: 29, loss train: 0.448, loss valid: 0.369\n"
     ]
    },
    {
     "data": {
      "text/plain": [
       "<matplotlib.legend.Legend at 0x287b66b9d60>"
      ]
     },
     "execution_count": 14,
     "metadata": {},
     "output_type": "execute_result"
    },
    {
     "data": {
      "image/png": "[encoded data removed]",
      "text/plain": [
       "<Figure size 640x480 with 1 Axes>"
      ]
     },
     "metadata": {},
     "output_type": "display_data"
    },
    {
     "data": {
      "image/png": "[encoded data removed]",
      "text/plain": [
       "<Figure size 640x480 with 1 Axes>"
      ]
     },
     "metadata": {},
     "output_type": "display_data"
    }
   ],
   "source": [
    "import sys\n",
    "\n",
    "model.train()\n",
    "losses_train = []\n",
    "losses_epoch_train = []\n",
    "losses_test = []\n",
    "losses_epoch_test = []\n",
    "\n",
    "acc_train = []\n",
    "acc_epoch_train = []\n",
    "acc_test = []\n",
    "acc_epoch_test = []\n",
    "\n",
    "for epoch in range(NUM_EPOCHS):\n",
    "    losses_epoch_train = []\n",
    "    losses_epoch_test = []\n",
    "    acc_epoch_test = []\n",
    "    acc_epoch_train = []\n",
    "    for x, cat_x, labels in train_data_loader:\n",
    "        predictions = model(x, cat_x).squeeze(dim=1)\n",
    "        loss = loss_fn(predictions, labels.long())\n",
    "        loss.backward()\n",
    "        optimizer.step()\n",
    "        optimizer.zero_grad()\n",
    "        losses_epoch_train.append(loss.item())\n",
    "        acc = (predictions.argmax(dim=1) == labels).sum() / predictions.shape[0]\n",
    "        acc_epoch_train.append(acc)\n",
    "        \n",
    "    losses_train.append(np.mean(losses_epoch_train))\n",
    "    acc_train.append(np.mean(acc_epoch_train))\n",
    "\n",
    "    with torch.no_grad():\n",
    "        for x, cat_x, labels in test_data_loader:\n",
    "            predictions = model(x, cat_x).squeeze(dim=1)\n",
    "            loss = loss_fn(predictions, labels.long())\n",
    "            losses_epoch_test.append(loss.item())\n",
    "            acc = (predictions.argmax(dim=1) == labels).sum() / predictions.shape[0]\n",
    "            acc_epoch_test.append(acc)\n",
    "        losses_test.append(np.mean(losses_epoch_test))\n",
    "        acc_test.append(np.mean(acc_epoch_test))\n",
    "\n",
    "    print(f\"Epoch: {epoch}, loss train: {losses_train[-1]:.3}, loss valid: {losses_epoch_test[-1]:.3}\")\n",
    "\n",
    "\n",
    "plt.figure()\n",
    "plt.plot(losses_train)\n",
    "plt.plot(losses_test)\n",
    "plt.title(\"Loss\")\n",
    "plt.legend([\"train\", \"valid\"])\n",
    "\n",
    "plt.figure()\n",
    "plt.title(\"Accuracy\")\n",
    "plt.plot(acc_train)\n",
    "plt.plot(acc_test)\n",
    "plt.legend([\"train\", \"valid\"])"
   ]
  },
  {
   "cell_type": "code",
   "execution_count": 15,
   "metadata": {
    "collapsed": false,
    "jupyter": {
     "outputs_hidden": false
    }
   },
   "outputs": [
    {
     "name": "stdout",
     "output_type": "stream",
     "text": [
      "Accuracy of the model: 83.87%\n",
      "Cheap Accuracy of the model: 92.76%\n",
      "Average Accuracy of the model: 82.70%\n",
      "Expensive Accuracy of the model: 80.58%\n",
      "Mean accuracy 0.8534619212150574\n"
     ]
    }
   ],
   "source": [
    "model.eval()\n",
    "\n",
    "true_predictions, num_predictions = 0., 0.\n",
    "true_predictions_cheap = 0.\n",
    "true_predictions_expensive = 0.\n",
    "true_predictions_average = 0.\n",
    "\n",
    "\n",
    "with torch.no_grad():\n",
    "        predictions = model(test_dataset[:][0], test_dataset[:][1])\n",
    "        labels = test_dataset[:][2]\n",
    "        prediction_labels = torch.max(predictions.data, 1).indices\n",
    "        true_predictions += (prediction_labels == labels).sum()\n",
    "        true_predictions_cheap += (torch.logical_and(prediction_labels == labels, prediction_labels == 0)).sum()\n",
    "        true_predictions_average += (torch.logical_and(prediction_labels == labels, prediction_labels == 1)).sum()\n",
    "        true_predictions_expensive += (torch.logical_and(prediction_labels == labels, prediction_labels == 2)).sum()\n",
    "        num_predictions += labels.shape[0]\n",
    "acc = true_predictions / num_predictions\n",
    "acc_cheap = true_predictions_cheap / (labels == 0).sum()\n",
    "acc_average = true_predictions_average / (labels == 1).sum()\n",
    "acc_expensive = true_predictions_expensive / (labels == 2).sum()\n",
    "\n",
    "print(f\"Accuracy of the model: {100.0*acc:4.2f}%\")\n",
    "print(f\"Cheap Accuracy of the model: {100.0*acc_cheap:4.2f}%\")\n",
    "print(f\"Average Accuracy of the model: {100.0*acc_average:4.2f}%\")\n",
    "print(f\"Expensive Accuracy of the model: {100.0*acc_expensive:4.2f}%\")\n",
    "\n",
    "print(f\"Mean accuracy { (acc_expensive+acc_average+acc_cheap) / 3}\")"
   ]
  },
  {
   "cell_type": "markdown",
   "metadata": {
    "tags": []
   },
   "source": [
    "# Accuracy on test data"
   ]
  },
  {
   "cell_type": "code",
   "execution_count": 16,
   "metadata": {},
   "outputs": [],
   "source": [
    "new_data = pd.read_csv(\"test_data.csv\")\n",
    "df = pd.read_csv(\"train_data.csv\")"
   ]
  },
  {
   "cell_type": "code",
   "execution_count": 17,
   "metadata": {},
   "outputs": [],
   "source": [
    "class_nr = 0\n",
    "for i in range(df['YearBuilt'].min(), df['YearBuilt'].max(), 5):\n",
    "    new_data[\"YearBuilt\"].mask( (new_data['YearBuilt']>=i) & (new_data['YearBuilt'] < i+5), class_nr, inplace=True)\n",
    "    class_nr += 1"
   ]
  },
  {
   "cell_type": "code",
   "execution_count": 18,
   "metadata": {},
   "outputs": [
    {
     "data": {
      "text/html": [
       "<div>\n",
       "<style scoped>\n",
       "    .dataframe tbody tr th:only-of-type {\n",
       "        vertical-align: middle;\n",
       "    }\n",
       "\n",
       "    .dataframe tbody tr th {\n",
       "        vertical-align: top;\n",
       "    }\n",
       "\n",
       "    .dataframe thead th {\n",
       "        text-align: right;\n",
       "    }\n",
       "</style>\n",
       "<table border=\"1\" class=\"dataframe\">\n",
       "  <thead>\n",
       "    <tr style=\"text-align: right;\">\n",
       "      <th></th>\n",
       "      <th>YearBuilt_0</th>\n",
       "      <th>YearBuilt_1</th>\n",
       "      <th>YearBuilt_2</th>\n",
       "      <th>YearBuilt_3</th>\n",
       "      <th>YearBuilt_5</th>\n",
       "      <th>YearBuilt_6</th>\n",
       "      <th>YearBuilt_7</th>\n",
       "      <th>HallwayType_corridor</th>\n",
       "      <th>HallwayType_mixed</th>\n",
       "      <th>HallwayType_terraced</th>\n",
       "      <th>...</th>\n",
       "      <th>TimeToSubway_5min~10min</th>\n",
       "      <th>TimeToSubway_no_bus_stop_nearby</th>\n",
       "      <th>SubwayStation_Bangoge</th>\n",
       "      <th>SubwayStation_Banwoldang</th>\n",
       "      <th>SubwayStation_Chil-sung-market</th>\n",
       "      <th>SubwayStation_Daegu</th>\n",
       "      <th>SubwayStation_Kyungbuk_uni_hospital</th>\n",
       "      <th>SubwayStation_Myung-duk</th>\n",
       "      <th>SubwayStation_Sin-nam</th>\n",
       "      <th>SubwayStation_no_subway_nearby</th>\n",
       "    </tr>\n",
       "  </thead>\n",
       "  <tbody>\n",
       "    <tr>\n",
       "      <th>0</th>\n",
       "      <td>0</td>\n",
       "      <td>0</td>\n",
       "      <td>0</td>\n",
       "      <td>1</td>\n",
       "      <td>0</td>\n",
       "      <td>0</td>\n",
       "      <td>0</td>\n",
       "      <td>0</td>\n",
       "      <td>1</td>\n",
       "      <td>0</td>\n",
       "      <td>...</td>\n",
       "      <td>0</td>\n",
       "      <td>0</td>\n",
       "      <td>0</td>\n",
       "      <td>0</td>\n",
       "      <td>0</td>\n",
       "      <td>0</td>\n",
       "      <td>0</td>\n",
       "      <td>1</td>\n",
       "      <td>0</td>\n",
       "      <td>0</td>\n",
       "    </tr>\n",
       "    <tr>\n",
       "      <th>1</th>\n",
       "      <td>0</td>\n",
       "      <td>0</td>\n",
       "      <td>0</td>\n",
       "      <td>0</td>\n",
       "      <td>0</td>\n",
       "      <td>0</td>\n",
       "      <td>1</td>\n",
       "      <td>0</td>\n",
       "      <td>0</td>\n",
       "      <td>1</td>\n",
       "      <td>...</td>\n",
       "      <td>0</td>\n",
       "      <td>0</td>\n",
       "      <td>0</td>\n",
       "      <td>0</td>\n",
       "      <td>0</td>\n",
       "      <td>0</td>\n",
       "      <td>0</td>\n",
       "      <td>1</td>\n",
       "      <td>0</td>\n",
       "      <td>0</td>\n",
       "    </tr>\n",
       "    <tr>\n",
       "      <th>2</th>\n",
       "      <td>0</td>\n",
       "      <td>0</td>\n",
       "      <td>0</td>\n",
       "      <td>0</td>\n",
       "      <td>1</td>\n",
       "      <td>0</td>\n",
       "      <td>0</td>\n",
       "      <td>0</td>\n",
       "      <td>0</td>\n",
       "      <td>1</td>\n",
       "      <td>...</td>\n",
       "      <td>0</td>\n",
       "      <td>0</td>\n",
       "      <td>0</td>\n",
       "      <td>1</td>\n",
       "      <td>0</td>\n",
       "      <td>0</td>\n",
       "      <td>0</td>\n",
       "      <td>0</td>\n",
       "      <td>0</td>\n",
       "      <td>0</td>\n",
       "    </tr>\n",
       "    <tr>\n",
       "      <th>3</th>\n",
       "      <td>0</td>\n",
       "      <td>0</td>\n",
       "      <td>0</td>\n",
       "      <td>0</td>\n",
       "      <td>1</td>\n",
       "      <td>0</td>\n",
       "      <td>0</td>\n",
       "      <td>0</td>\n",
       "      <td>1</td>\n",
       "      <td>0</td>\n",
       "      <td>...</td>\n",
       "      <td>1</td>\n",
       "      <td>0</td>\n",
       "      <td>1</td>\n",
       "      <td>0</td>\n",
       "      <td>0</td>\n",
       "      <td>0</td>\n",
       "      <td>0</td>\n",
       "      <td>0</td>\n",
       "      <td>0</td>\n",
       "      <td>0</td>\n",
       "    </tr>\n",
       "    <tr>\n",
       "      <th>4</th>\n",
       "      <td>0</td>\n",
       "      <td>0</td>\n",
       "      <td>0</td>\n",
       "      <td>0</td>\n",
       "      <td>1</td>\n",
       "      <td>0</td>\n",
       "      <td>0</td>\n",
       "      <td>0</td>\n",
       "      <td>0</td>\n",
       "      <td>1</td>\n",
       "      <td>...</td>\n",
       "      <td>0</td>\n",
       "      <td>0</td>\n",
       "      <td>0</td>\n",
       "      <td>0</td>\n",
       "      <td>0</td>\n",
       "      <td>0</td>\n",
       "      <td>0</td>\n",
       "      <td>1</td>\n",
       "      <td>0</td>\n",
       "      <td>0</td>\n",
       "    </tr>\n",
       "  </tbody>\n",
       "</table>\n",
       "<p>5 rows × 30 columns</p>\n",
       "</div>"
      ],
      "text/plain": [
       "   YearBuilt_0  YearBuilt_1  YearBuilt_2  YearBuilt_3  YearBuilt_5  \\\n",
       "0            0            0            0            1            0   \n",
       "1            0            0            0            0            0   \n",
       "2            0            0            0            0            1   \n",
       "3            0            0            0            0            1   \n",
       "4            0            0            0            0            1   \n",
       "\n",
       "   YearBuilt_6  YearBuilt_7  HallwayType_corridor  HallwayType_mixed  \\\n",
       "0            0            0                     0                  1   \n",
       "1            0            1                     0                  0   \n",
       "2            0            0                     0                  0   \n",
       "3            0            0                     0                  1   \n",
       "4            0            0                     0                  0   \n",
       "\n",
       "   HallwayType_terraced  ...  TimeToSubway_5min~10min  \\\n",
       "0                     0  ...                        0   \n",
       "1                     1  ...                        0   \n",
       "2                     1  ...                        0   \n",
       "3                     0  ...                        1   \n",
       "4                     1  ...                        0   \n",
       "\n",
       "   TimeToSubway_no_bus_stop_nearby  SubwayStation_Bangoge  \\\n",
       "0                                0                      0   \n",
       "1                                0                      0   \n",
       "2                                0                      0   \n",
       "3                                0                      1   \n",
       "4                                0                      0   \n",
       "\n",
       "   SubwayStation_Banwoldang  SubwayStation_Chil-sung-market  \\\n",
       "0                         0                               0   \n",
       "1                         0                               0   \n",
       "2                         1                               0   \n",
       "3                         0                               0   \n",
       "4                         0                               0   \n",
       "\n",
       "   SubwayStation_Daegu  SubwayStation_Kyungbuk_uni_hospital  \\\n",
       "0                    0                                    0   \n",
       "1                    0                                    0   \n",
       "2                    0                                    0   \n",
       "3                    0                                    0   \n",
       "4                    0                                    0   \n",
       "\n",
       "   SubwayStation_Myung-duk  SubwayStation_Sin-nam  \\\n",
       "0                        1                      0   \n",
       "1                        1                      0   \n",
       "2                        0                      0   \n",
       "3                        0                      0   \n",
       "4                        1                      0   \n",
       "\n",
       "   SubwayStation_no_subway_nearby  \n",
       "0                               0  \n",
       "1                               0  \n",
       "2                               0  \n",
       "3                               0  \n",
       "4                               0  \n",
       "\n",
       "[5 rows x 30 columns]"
      ]
     },
     "execution_count": 18,
     "metadata": {},
     "output_type": "execute_result"
    }
   ],
   "source": [
    "categorical_columns = [\n",
    "    'YearBuilt', 'HallwayType', 'HeatingType',\n",
    "    'AptManageType', 'TimeToBusStop', 'TimeToSubway', 'SubwayStation',\n",
    "]\n",
    "categorical_values = pd.get_dummies(new_data[categorical_columns].astype(str))\n",
    "new_data.drop(columns=categorical_columns, inplace=True)\n",
    "categorical_values.head()"
   ]
  },
  {
   "cell_type": "code",
   "execution_count": 19,
   "metadata": {},
   "outputs": [
    {
     "name": "stdout",
     "output_type": "stream",
     "text": [
      "(1767, 30)\n",
      "(1767, 9)\n"
     ]
    }
   ],
   "source": [
    "categorical_data = categorical_values.values\n",
    "numerical_data = new_data.values\n",
    "print(categorical_data.shape)\n",
    "print(numerical_data.shape)"
   ]
  },
  {
   "cell_type": "code",
   "execution_count": 20,
   "metadata": {},
   "outputs": [
    {
     "name": "stdout",
     "output_type": "stream",
     "text": [
      "[[-0.12542233 -0.27504087  1.52970182 ... -0.78244015  1.19933985\n",
      "   1.38150964]\n",
      " [-0.14357633  0.51372651 -0.48659148 ...  1.33842446  1.19933985\n",
      "   1.38150964]\n",
      " [ 1.72888006 -0.66942456 -0.8730865  ... -0.35826723 -0.24174561\n",
      "  -1.33128899]\n",
      " ...\n",
      " [-0.8256484   1.03957142  1.52970182 ... -0.78244015  1.19933985\n",
      "   1.38150964]\n",
      " [-0.12542233 -0.14357964  0.01166113 ...  0.91425154 -0.81817979\n",
      "  -0.42702278]\n",
      " [-0.12542233 -0.4065021   1.52970182 ... -0.78244015  1.19933985\n",
      "   1.38150964]]\n"
     ]
    }
   ],
   "source": [
    "numerical_data = ss.transform(numerical_data)\n",
    "print(numerical_data)"
   ]
  },
  {
   "cell_type": "code",
   "execution_count": 21,
   "metadata": {},
   "outputs": [
    {
     "name": "stdout",
     "output_type": "stream",
     "text": [
      "tensor([[-0.1254, -0.2750,  1.5297,  ..., -0.7824,  1.1993,  1.3815],\n",
      "        [-0.1436,  0.5137, -0.4866,  ...,  1.3384,  1.1993,  1.3815],\n",
      "        [ 1.7289, -0.6694, -0.8731,  ..., -0.3583, -0.2417, -1.3313],\n",
      "        ...,\n",
      "        [-0.8256,  1.0396,  1.5297,  ..., -0.7824,  1.1993,  1.3815],\n",
      "        [-0.1254, -0.1436,  0.0117,  ...,  0.9143, -0.8182, -0.4270],\n",
      "        [-0.1254, -0.4065,  1.5297,  ..., -0.7824,  1.1993,  1.3815]])\n",
      "tensor([[0., 0., 0.,  ..., 1., 0., 0.],\n",
      "        [0., 0., 0.,  ..., 1., 0., 0.],\n",
      "        [0., 0., 0.,  ..., 0., 0., 0.],\n",
      "        ...,\n",
      "        [0., 0., 0.,  ..., 1., 0., 0.],\n",
      "        [0., 0., 0.,  ..., 0., 1., 0.],\n",
      "        [0., 0., 0.,  ..., 1., 0., 0.]])\n",
      "torch.Size([1767, 9])\n",
      "torch.Size([1767, 30])\n"
     ]
    }
   ],
   "source": [
    "numerical_data = torch.from_numpy(numerical_data).float()\n",
    "categorical_data = torch.from_numpy(categorical_data).float()\n",
    "print(numerical_data)\n",
    "print(categorical_data)\n",
    "print(numerical_data.shape)\n",
    "print(categorical_data.shape)"
   ]
  },
  {
   "cell_type": "code",
   "execution_count": 22,
   "metadata": {},
   "outputs": [],
   "source": [
    "new_data_dataset = data.TensorDataset(numerical_data, categorical_data)"
   ]
  },
  {
   "cell_type": "code",
   "execution_count": 23,
   "metadata": {},
   "outputs": [],
   "source": [
    "with torch.no_grad():\n",
    "        predictions = model(new_data_dataset[:][0], new_data_dataset[:][1])"
   ]
  },
  {
   "cell_type": "code",
   "execution_count": 24,
   "metadata": {},
   "outputs": [
    {
     "data": {
      "text/plain": [
       "tensor([[-0.7303,  1.5322, -1.0592],\n",
       "        [-1.3857,  0.6293,  0.2737],\n",
       "        [-2.0423, -0.3613,  1.1945],\n",
       "        ...,\n",
       "        [ 0.6493,  0.6500, -1.4529],\n",
       "        [-1.4744,  1.8958, -0.6973],\n",
       "        [-0.7156,  1.5167, -1.0621]])"
      ]
     },
     "execution_count": 24,
     "metadata": {},
     "output_type": "execute_result"
    }
   ],
   "source": [
    "predictions"
   ]
  },
  {
   "cell_type": "code",
   "execution_count": 25,
   "metadata": {},
   "outputs": [
    {
     "data": {
      "text/plain": [
       "tensor([1, 1, 2,  ..., 1, 1, 1])"
      ]
     },
     "execution_count": 25,
     "metadata": {},
     "output_type": "execute_result"
    }
   ],
   "source": [
    "predictions = predictions.argmax(dim=1)\n",
    "predictions"
   ]
  },
  {
   "cell_type": "code",
   "execution_count": 26,
   "metadata": {},
   "outputs": [],
   "source": [
    "pd.DataFrame(predictions.numpy()).to_csv(\"predictions.csv\")"
   ]
  },
  {
   "cell_type": "code",
   "execution_count": null,
   "metadata": {},
   "outputs": [],
   "source": []
  }
 ],
 "metadata": {
  "kernelspec": {
   "display_name": "Python 3 (ipykernel)",
   "language": "python",
   "name": "python3"
  },
  "language_info": {
   "codemirror_mode": {
    "name": "ipython",
    "version": 3
   },
   "file_extension": ".py",
   "mimetype": "text/x-python",
   "name": "python",
   "nbconvert_exporter": "python",
   "pygments_lexer": "ipython3",
   "version": "3.9.0"
  }
 },
 "nbformat": 4,
 "nbformat_minor": 4
}
