{
  "cells": [
    {
      "cell_type": "code",
      "execution_count": 227,
      "metadata": {
        "id": "ceb7cbe1-746d-4b6f-a6e1-6c3f3a7aaa38"
      },
      "outputs": [],
      "source": [
        "import pandas as pd\n",
        "import torch\n",
        "import torch.nn as nn\n",
        "import numpy as np\n",
        "import matplotlib.pyplot as plt\n",
        "from torch.utils.data import DataLoader\n",
        "import os\n",
        "import pickle\n",
        "from torch.utils.data import Dataset\n",
        "import random"
      ],
      "id": "ceb7cbe1-746d-4b6f-a6e1-6c3f3a7aaa38"
    },
    {
      "cell_type": "code",
      "execution_count": 228,
      "metadata": {
        "id": "a03c4cb1-5360-4020-babf-5502ed218c1c"
      },
      "outputs": [],
      "source": [
        "seed = 100\n",
        "random.seed(seed)\n",
        "os.environ['PYTHONHASHSEED'] = str(seed)\n",
        "np.random.seed(seed)\n",
        "torch.manual_seed(seed)\n",
        "torch.cuda.manual_seed(seed)\n",
        "torch.backends.cudnn.deterministic = True\n",
        "torch.backends.cudnn.benchmark = True"
      ],
      "id": "a03c4cb1-5360-4020-babf-5502ed218c1c"
    },
    {
      "cell_type": "code",
      "execution_count": 229,
      "metadata": {
        "colab": {
          "base_uri": "https://localhost:8080/"
        },
        "id": "f2b33305-ac19-49f5-9aac-a6270fdde835",
        "outputId": "6d7ed49e-3fc7-44a4-b394-87134a784984"
      },
      "outputs": [
        {
          "output_type": "execute_result",
          "data": {
            "text/plain": [
              "device(type='cuda')"
            ]
          },
          "metadata": {},
          "execution_count": 229
        }
      ],
      "source": [
        "device = torch.device('cuda')\n",
        "device"
      ],
      "id": "f2b33305-ac19-49f5-9aac-a6270fdde835"
    },
    {
      "cell_type": "code",
      "execution_count": 230,
      "metadata": {
        "id": "d7be672f-cd6e-44a5-aefc-abcf85f65a36"
      },
      "outputs": [],
      "source": [
        "with open('train.pkl', 'rb') as f:\n",
        "    pck_data = pickle.load(f)\n",
        "\n",
        "random.shuffle(pck_data)"
      ],
      "id": "d7be672f-cd6e-44a5-aefc-abcf85f65a36"
    },
    {
      "cell_type": "code",
      "execution_count": 231,
      "metadata": {
        "colab": {
          "base_uri": "https://localhost:8080/",
          "height": 298
        },
        "id": "f51d7b77-97a7-4c27-9e97-fd843e098784",
        "outputId": "85836cef-3457-4db6-87cb-0d6fd3f19e3c"
      },
      "outputs": [
        {
          "output_type": "stream",
          "name": "stdout",
          "text": [
            "{3: 441, 1: 478, 0: 1630, 4: 236, 2: 154}\n"
          ]
        },
        {
          "output_type": "display_data",
          "data": {
            "text/plain": [
              "<Figure size 432x288 with 1 Axes>"
            ],
            "image/png": "[encoded data removed]"
          },
          "metadata": {
            "needs_background": "light"
          }
        }
      ],
      "source": [
        "counts = {}\n",
        "for record in pck_data:\n",
        "    if record[1] in counts:\n",
        "        counts[record[1]] += 1\n",
        "    else:\n",
        "        counts[record[1]] = 1\n",
        "print(counts)\n",
        "\n",
        "plt.bar(list(counts.keys()), list(counts.values()))\n",
        "plt.title(\"rozklad klas\")\n",
        "plt.show()"
      ],
      "id": "f51d7b77-97a7-4c27-9e97-fd843e098784"
    },
    {
      "cell_type": "code",
      "execution_count": 231,
      "metadata": {
        "id": "d72147bf-7f5a-446c-b0b1-b1afbfbc397d"
      },
      "outputs": [],
      "source": [],
      "id": "d72147bf-7f5a-446c-b0b1-b1afbfbc397d"
    },
    {
      "cell_type": "code",
      "execution_count": 232,
      "metadata": {
        "colab": {
          "base_uri": "https://localhost:8080/"
        },
        "id": "f3681d42-3d8e-4ca0-ac67-9ba911a44c6c",
        "outputId": "b4d45034-1c9a-4c0d-cc9c-95efed79cfb8"
      },
      "outputs": [
        {
          "output_type": "execute_result",
          "data": {
            "text/plain": [
              "(tensor(191., dtype=torch.float64), tensor(-1., dtype=torch.float64))"
            ]
          },
          "metadata": {},
          "execution_count": 232
        }
      ],
      "source": [
        "data = []\n",
        "targets = []\n",
        "max_val = float(\"-inf\")\n",
        "min_val = float(\"inf\")\n",
        "for record in pck_data:\n",
        "    data.append(torch.from_numpy(np.array(record[0])))\n",
        "    targets.append(torch.from_numpy(np.array(record[1])))\n",
        "    max_val = data[-1].max() if data[-1].max() > max_val else max_val\n",
        "    min_val = data[-1].min() if data[-1].min() < min_val else min_val\n",
        "\n",
        "max_val, min_val"
      ],
      "id": "f3681d42-3d8e-4ca0-ac67-9ba911a44c6c"
    },
    {
      "cell_type": "code",
      "execution_count": 233,
      "metadata": {
        "id": "7e979b82-db0e-479f-9d5c-dcff152a3f80"
      },
      "outputs": [],
      "source": [
        "class VariableLenDataset(Dataset):\n",
        "    def __init__(self, in_data, target):\n",
        "        self.data = [(x, y) for x, y in zip(in_data, target)]      \n",
        "\n",
        "    def __len__(self):\n",
        "        return len(self.data)\n",
        "\n",
        "    def __getitem__(self, idx):\n",
        "        in_data, target = self.data[idx]\n",
        "        return in_data, target"
      ],
      "id": "7e979b82-db0e-479f-9d5c-dcff152a3f80"
    },
    {
      "cell_type": "code",
      "execution_count": 234,
      "metadata": {
        "id": "982bf6de-74ab-4a69-abae-b3b61ff6f265"
      },
      "outputs": [],
      "source": [
        "train_indices = int(len(data) * 0.75)\n",
        "data = [( (x - min_val) / (max_val-min_val) - 0.5).float() for x in data]\n",
        "train_set = VariableLenDataset(data[:train_indices], targets[:train_indices])\n",
        "test_set = VariableLenDataset(data[train_indices:], targets[train_indices:])"
      ],
      "id": "982bf6de-74ab-4a69-abae-b3b61ff6f265"
    },
    {
      "cell_type": "code",
      "execution_count": 235,
      "metadata": {
        "id": "fad0e899-4552-48e8-91b2-1b9baaf581f8"
      },
      "outputs": [],
      "source": [
        "from torch.nn.utils.rnn import pad_sequence, pack_padded_sequence, pad_packed_sequence\n",
        "\n",
        "pad = -1\n",
        "\n",
        "def pad_collate(batch, pad_value=-1):\n",
        "    xx, yy = zip(*batch)\n",
        "    x_lens = [len(x) for x in xx]\n",
        "\n",
        "    xx_pad = pad_sequence(xx, batch_first=True, padding_value=pad_value)\n",
        "    return xx_pad, torch.Tensor(yy), torch.Tensor(x_lens)"
      ],
      "id": "fad0e899-4552-48e8-91b2-1b9baaf581f8"
    },
    {
      "cell_type": "code",
      "execution_count": 240,
      "metadata": {
        "colab": {
          "base_uri": "https://localhost:8080/"
        },
        "id": "1c0b56c5-1482-459a-a381-277b3751c19d",
        "outputId": "6f9ddda1-4130-472e-a8bd-7b87cc0e8dce"
      },
      "outputs": [
        {
          "output_type": "stream",
          "name": "stdout",
          "text": [
            "tensor([ 0.0260, -0.0938, -0.1615,  ..., -1.0000, -1.0000, -1.0000])\n"
          ]
        }
      ],
      "source": [
        "batch_size = 64\n",
        "train_loader = DataLoader(train_set, batch_size=batch_size, shuffle=True, collate_fn=pad_collate)\n",
        "test_loader = DataLoader(test_set, batch_size=batch_size, shuffle=False, drop_last=False, collate_fn=pad_collate)\n",
        "torch.set_printoptions(profile=\"default\")\n",
        "for a,b,c in test_loader:\n",
        "    print(a[30])\n",
        "    break"
      ],
      "id": "1c0b56c5-1482-459a-a381-277b3751c19d"
    },
    {
      "cell_type": "code",
      "execution_count": 278,
      "metadata": {
        "id": "4b24abb3-c4c9-4231-8268-c968023dad2d"
      },
      "outputs": [],
      "source": [
        "class LSTMClassifier(nn.Module):\n",
        "\n",
        "    def __init__(self, input_size, hidden_size, num_layers, out_size, batch_size,bidirectional = False):\n",
        "        super().__init__()\n",
        "        self.batch_size = batch_size\n",
        "        self.num_layers = num_layers\n",
        "        self.hidden_size = hidden_size\n",
        "        if bidirectional:\n",
        "            self.bidirectional = 2\n",
        "        else:\n",
        "            self.bidirectional = 1\n",
        "        self.lstm = nn.LSTM(input_size = input_size, hidden_size = hidden_size, num_layers = num_layers, bidirectional=bidirectional, dropout=0.15)\n",
        "        self.fc1 = nn.Linear(hidden_size*self.bidirectional, hidden_size*self.bidirectional // 4 )\n",
        "        self.bn1 = nn.BatchNorm1d(hidden_size*self.bidirectional // 4)\n",
        "        self.act1 = nn.ReLU()\n",
        "        self.d1 = nn.Dropout(0.15)\n",
        "        self.fc2 = nn.Linear(hidden_size*self.bidirectional // 4, out_size)\n",
        "        \n",
        "    def init_hidden(self, batch_size):\n",
        "        hidden = torch.zeros(self.num_layers*self.bidirectional , batch_size, self.hidden_size)\n",
        "        state = torch.zeros(self.num_layers*self.bidirectional , batch_size, self.hidden_size)\n",
        "        return hidden, state\n",
        "    \n",
        "    def forward(self, x, hidden, lens_x):\n",
        "        curr_b = x.shape[0]\n",
        "        x = torch.transpose(x,0,1)\n",
        "        all_outputs, hidden = self.lstm(x, hidden)\n",
        "        all_outputs = torch.transpose(all_outputs,0,1)\n",
        "        out = torch.zeros((curr_b, self.bidirectional*self.hidden_size), requires_grad=True).to(device)\n",
        "        for i in range(curr_b):\n",
        "          idx1 = max(lens_x[i]-3, 0)\n",
        "          idx2 = lens_x[i]-1\n",
        "          out[i, :] = all_outputs[i, idx1:idx2, :].mean(axis=0)\n",
        "        x = self.fc1(out)\n",
        "        x = self.bn1(x)\n",
        "        x = self.act1(x)\n",
        "        x = self.d1(x)\n",
        "        x = self.fc2(x)\n",
        "        return x, hidden"
      ],
      "id": "4b24abb3-c4c9-4231-8268-c968023dad2d"
    },
    {
      "cell_type": "code",
      "execution_count": 290,
      "metadata": {
        "id": "671655ef-4357-439c-948f-f349a0a55d5b"
      },
      "outputs": [],
      "source": [
        "#torch.set_printoptions(profile=\"full\")\n",
        "\n",
        "\n",
        "model = LSTMClassifier(1, 64, 3, 5, batch_size, False).to(device)\n",
        "optimizer = torch.optim.Adam(model.parameters(), lr=0.005)\n",
        "loss_fun = nn.CrossEntropyLoss(weight=torch.Tensor([0.2, 1, 1.3, 1, 1.3]).to(device), reduction='mean')"
      ],
      "id": "671655ef-4357-439c-948f-f349a0a55d5b"
    },
    {
      "cell_type": "code",
      "execution_count": 291,
      "metadata": {
        "id": "dcf786d2-3710-42f4-af7d-14475d8fb504",
        "colab": {
          "base_uri": "https://localhost:8080/"
        },
        "outputId": "5f359307-984d-4589-b10e-fefb6becdbbb"
      },
      "outputs": [
        {
          "output_type": "stream",
          "name": "stdout",
          "text": [
            "Epoch: 0, loss train: 1.6, loss test: 1.57\n",
            "Epoch: 0, acc train: 0.175, acc test: 0.167\n",
            "Epoch: 1, loss train: 1.59, loss test: 1.63\n",
            "Epoch: 1, acc train: 0.188, acc test: 0.168\n",
            "Epoch: 2, loss train: 1.58, loss test: 1.61\n",
            "Epoch: 2, acc train: 0.188, acc test: 0.176\n",
            "Epoch: 3, loss train: 1.57, loss test: 1.59\n",
            "Epoch: 3, acc train: 0.189, acc test: 0.173\n",
            "Epoch: 4, loss train: 1.56, loss test: 1.59\n",
            "Epoch: 4, acc train: 0.193, acc test: 0.174\n",
            "Epoch: 5, loss train: 1.55, loss test: 1.6\n",
            "Epoch: 5, acc train: 0.197, acc test: 0.18\n",
            "Epoch: 6, loss train: 1.54, loss test: 1.57\n",
            "Epoch: 6, acc train: 0.206, acc test: 0.179\n",
            "Epoch: 7, loss train: 1.53, loss test: 1.55\n",
            "Epoch: 7, acc train: 0.214, acc test: 0.186\n",
            "Epoch: 8, loss train: 1.52, loss test: 1.54\n",
            "Epoch: 8, acc train: 0.22, acc test: 0.188\n",
            "Epoch: 9, loss train: 1.51, loss test: 1.52\n",
            "Epoch: 9, acc train: 0.235, acc test: 0.2\n",
            "Epoch: 10, loss train: 1.5, loss test: 1.5\n",
            "Epoch: 10, acc train: 0.248, acc test: 0.201\n",
            "Epoch: 11, loss train: 1.49, loss test: 1.5\n",
            "Epoch: 11, acc train: 0.259, acc test: 0.213\n",
            "Epoch: 12, loss train: 1.48, loss test: 1.48\n",
            "Epoch: 12, acc train: 0.273, acc test: 0.233\n",
            "Epoch: 13, loss train: 1.47, loss test: 1.48\n",
            "Epoch: 13, acc train: 0.284, acc test: 0.234\n",
            "Epoch: 14, loss train: 1.46, loss test: 1.47\n",
            "Epoch: 14, acc train: 0.295, acc test: 0.239\n",
            "Epoch: 15, loss train: 1.46, loss test: 1.46\n",
            "Epoch: 15, acc train: 0.303, acc test: 0.261\n",
            "Epoch: 16, loss train: 1.45, loss test: 1.45\n",
            "Epoch: 16, acc train: 0.311, acc test: 0.271\n",
            "Epoch: 17, loss train: 1.44, loss test: 1.44\n",
            "Epoch: 17, acc train: 0.321, acc test: 0.285\n",
            "Epoch: 18, loss train: 1.44, loss test: 1.44\n",
            "Epoch: 18, acc train: 0.329, acc test: 0.288\n",
            "Epoch: 19, loss train: 1.43, loss test: 1.44\n",
            "Epoch: 19, acc train: 0.336, acc test: 0.293\n",
            "Epoch: 20, loss train: 1.43, loss test: 1.44\n",
            "Epoch: 20, acc train: 0.343, acc test: 0.305\n",
            "Epoch: 21, loss train: 1.42, loss test: 1.42\n",
            "Epoch: 21, acc train: 0.349, acc test: 0.315\n",
            "Epoch: 22, loss train: 1.41, loss test: 1.41\n",
            "Epoch: 22, acc train: 0.356, acc test: 0.321\n",
            "Epoch: 23, loss train: 1.4, loss test: 1.4\n",
            "Epoch: 23, acc train: 0.362, acc test: 0.326\n",
            "Epoch: 24, loss train: 1.39, loss test: 1.38\n",
            "Epoch: 24, acc train: 0.368, acc test: 0.334\n",
            "Epoch: 25, loss train: 1.38, loss test: 1.39\n",
            "Epoch: 25, acc train: 0.373, acc test: 0.338\n"
          ]
        }
      ],
      "source": [
        "import sys\n",
        "model.train()\n",
        "\n",
        "losses_train = []\n",
        "losses_epoch_train = []\n",
        "losses_test = []\n",
        "losses_epoch_test = []\n",
        "\n",
        "acc_train = []\n",
        "acc_epoch_train = []\n",
        "acc_test = []\n",
        "acc_epoch_test = []\n",
        "\n",
        "\n",
        "for epoch in range(26):\n",
        "    model.train()\n",
        "    for x, targets, lens in train_loader:\n",
        "        targets = targets.long()\n",
        "        x = x.to(device).unsqueeze(2)\n",
        "        lens = lens.long().to(device)\n",
        "        targets = targets.to(device)\n",
        "        hidden, state = model.init_hidden(x.size(0))\n",
        "        hidden, state = hidden.to(device), state.to(device)\n",
        "        preds, _ = model(x, (hidden,state), lens)\n",
        "        optimizer.zero_grad()\n",
        "        loss = loss_fun(preds, targets)\n",
        "        loss.backward()\n",
        "        optimizer.step()\n",
        "        losses_epoch_train.append(loss.item())\n",
        "        acc = (preds.argmax(dim=1) == targets).sum() / preds.shape[0]\n",
        "        acc_epoch_train.append(acc.cpu())\n",
        "    losses_train.append(np.mean(losses_epoch_train))\n",
        "    acc_train.append(np.mean(acc_epoch_train))\n",
        "\n",
        "    model.eval()\n",
        "    with torch.no_grad():\n",
        "        for x, targets, lens in test_loader:\n",
        "            targets = targets.long()\n",
        "            x = x.to(device).unsqueeze(2)\n",
        "            lens = lens.long().to(device)\n",
        "            targets = targets.to(device)\n",
        "            hidden, state = model.init_hidden(x.size(0))\n",
        "            hidden, state = hidden.to(device), state.to(device)\n",
        "            preds, _ = model(x, (hidden,state), lens)\n",
        "            losses_epoch_test.append(loss.item())\n",
        "            acc = (preds.argmax(dim=1) == targets).sum() / preds.shape[0]\n",
        "            acc_epoch_test.append(acc.cpu())\n",
        "    losses_test.append(np.mean(losses_epoch_test))\n",
        "    acc_test.append(np.mean(acc_epoch_test))\n",
        "    print(f\"Epoch: {epoch}, loss train: {losses_train[-1]:.3}, loss test: {losses_test[-1]:.3}\")\n",
        "    print(f\"Epoch: {epoch}, acc train: {acc_train[-1]:.3}, acc test: {acc_test[-1]:.3}\")"
      ],
      "id": "dcf786d2-3710-42f4-af7d-14475d8fb504"
    },
    {
      "cell_type": "code",
      "execution_count": 292,
      "metadata": {
        "id": "ca78a89f-825d-48ca-a4d9-fcf6c6a78a2e",
        "outputId": "96ff560a-5938-42a7-d7c9-5c7dc4318217",
        "colab": {
          "base_uri": "https://localhost:8080/",
          "height": 562
        }
      },
      "outputs": [
        {
          "output_type": "stream",
          "name": "stdout",
          "text": [
            "Finished Training\n"
          ]
        },
        {
          "output_type": "display_data",
          "data": {
            "text/plain": [
              "<Figure size 432x288 with 1 Axes>"
            ],
            "image/png": "[encoded data removed]"
          },
          "metadata": {
            "needs_background": "light"
          }
        },
        {
          "output_type": "display_data",
          "data": {
            "text/plain": [
              "<Figure size 432x288 with 1 Axes>"
            ],
            "image/png": "[encoded data removed]"
          },
          "metadata": {
            "needs_background": "light"
          }
        }
      ],
      "source": [
        "plt.figure()\n",
        "plt.grid(True)\n",
        "plt.plot(losses_train)\n",
        "plt.plot(losses_test)\n",
        "plt.title(\"Loss\")\n",
        "plt.legend([\"train\", \"valid\"])\n",
        "\n",
        "plt.figure()\n",
        "plt.grid(True)\n",
        "plt.title(\"Accuracy\")\n",
        "plt.plot(acc_train)\n",
        "plt.plot(acc_test)\n",
        "plt.legend([\"train\", \"valid\"])\n",
        "print('Finished Training')"
      ],
      "id": "ca78a89f-825d-48ca-a4d9-fcf6c6a78a2e"
    },
    {
      "cell_type": "code",
      "execution_count": 293,
      "metadata": {
        "id": "cf1ed33e-a9e8-4c3f-b2ba-640144a9b321",
        "colab": {
          "base_uri": "https://localhost:8080/"
        },
        "outputId": "35c35215-798c-4825-8623-3cbb517efec9"
      },
      "outputs": [
        {
          "output_type": "stream",
          "name": "stdout",
          "text": [
            "Acc: 0.34046292304992676\n",
            "Accuracy for class 0 is: 26.405867970660147 %\n",
            "Accuracy for class 1 is: 68.33333333333333 %\n",
            "Accuracy for class 2 is: 13.333333333333334 %\n",
            "Accuracy for class 3 is: 63.63636363636363 %\n",
            "Accuracy for class 4 is: 67.27272727272727 %\n",
            "Avg class acc: 47.79632510928354\n"
          ]
        }
      ],
      "source": [
        "correct_preds = [0 for _ in range(5)]\n",
        "total_preds = [0 for _ in range(5)]\n",
        "\n",
        "\n",
        "model.eval()\n",
        "with torch.no_grad():\n",
        "    for x, targets, lens in test_loader:\n",
        "        targets = targets.long()\n",
        "        x = x.to(device).unsqueeze(2)\n",
        "        lens = lens.long().to(device)\n",
        "        targets = targets.to(device)\n",
        "        hidden, state = model.init_hidden(x.size(0))\n",
        "        hidden, state = hidden.to(device), state.to(device)\n",
        "        preds, _ = model(x, (hidden,state), lens)\n",
        "        losses_epoch_test.append(loss.item())\n",
        "        acc = (preds.argmax(dim=1) == targets).sum() / preds.shape[0]\n",
        "        acc_epoch_test.append(acc.cpu())\n",
        "\n",
        "\n",
        "        _, max_preds = torch.max(preds, 1)\n",
        "        for label, prediction in zip(targets, max_preds):\n",
        "          label = label.item()\n",
        "          if label == prediction:\n",
        "              correct_preds[label] += 1\n",
        "          total_preds[label] += 1\n",
        "\n",
        "\n",
        "print(f\"Acc: {np.mean(acc_epoch_test)}\")\n",
        "\n",
        "class_accs = []\n",
        "for i, correct_count in enumerate(correct_preds):\n",
        "    accuracy = 100 * float(correct_count) / total_preds[i]\n",
        "    print(f\"Accuracy for class {i} is: {accuracy} %\")\n",
        "    class_accs.append(accuracy)\n",
        "\n",
        "print(f\"Avg class acc: {np.array(class_accs).mean()}\")"
      ],
      "id": "cf1ed33e-a9e8-4c3f-b2ba-640144a9b321"
    },
    {
      "cell_type": "code",
      "source": [],
      "metadata": {
        "id": "Q7dQDsLAosOk"
      },
      "id": "Q7dQDsLAosOk",
      "execution_count": null,
      "outputs": []
    }
  ],
  "metadata": {
    "accelerator": "GPU",
    "colab": {
      "provenance": []
    },
    "gpuClass": "standard",
    "kernelspec": {
      "display_name": "Python 3 (ipykernel)",
      "language": "python",
      "name": "python3"
    },
    "language_info": {
      "codemirror_mode": {
        "name": "ipython",
        "version": 3
      },
      "file_extension": ".py",
      "mimetype": "text/x-python",
      "name": "python",
      "nbconvert_exporter": "python",
      "pygments_lexer": "ipython3",
      "version": "3.10.8"
    }
  },
  "nbformat": 4,
  "nbformat_minor": 5
}