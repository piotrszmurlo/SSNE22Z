{
  "cells": [
    {
      "cell_type": "code",
      "execution_count": 5,
      "id": "ceb7cbe1-746d-4b6f-a6e1-6c3f3a7aaa38",
      "metadata": {
        "id": "ceb7cbe1-746d-4b6f-a6e1-6c3f3a7aaa38"
      },
      "outputs": [],
      "source": [
        "import pandas as pd\n",
        "import torch\n",
        "import torch.nn as nn\n",
        "import numpy as np\n",
        "import matplotlib.pyplot as plt\n",
        "from torch.utils.data import DataLoader\n",
        "import os\n",
        "import pickle\n",
        "from torch.utils.data import Dataset\n",
        "import random"
      ]
    },
    {
      "cell_type": "code",
      "execution_count": 6,
      "id": "a03c4cb1-5360-4020-babf-5502ed218c1c",
      "metadata": {
        "id": "a03c4cb1-5360-4020-babf-5502ed218c1c"
      },
      "outputs": [],
      "source": [
        "seed = 100\n",
        "random.seed(seed)\n",
        "os.environ['PYTHONHASHSEED'] = str(seed)\n",
        "np.random.seed(seed)\n",
        "torch.manual_seed(seed)\n",
        "torch.cuda.manual_seed(seed)\n",
        "torch.backends.cudnn.deterministic = True\n",
        "torch.backends.cudnn.benchmark = True"
      ]
    },
    {
      "cell_type": "code",
      "execution_count": 7,
      "id": "f2b33305-ac19-49f5-9aac-a6270fdde835",
      "metadata": {
        "colab": {
          "base_uri": "https://localhost:8080/"
        },
        "id": "f2b33305-ac19-49f5-9aac-a6270fdde835",
        "outputId": "de0ff01a-2f2b-4ebe-f7ad-f231dc1a1a35"
      },
      "outputs": [
        {
          "output_type": "execute_result",
          "data": {
            "text/plain": [
              "device(type='cpu')"
            ]
          },
          "metadata": {},
          "execution_count": 7
        }
      ],
      "source": [
        "device = torch.device('cpu')\n",
        "device"
      ]
    },
    {
      "cell_type": "code",
      "execution_count": 8,
      "id": "d7be672f-cd6e-44a5-aefc-abcf85f65a36",
      "metadata": {
        "id": "d7be672f-cd6e-44a5-aefc-abcf85f65a36"
      },
      "outputs": [],
      "source": [
        "with open('train.pkl', 'rb') as f:\n",
        "    pck_data = pickle.load(f)\n",
        "random.shuffle(pck_data)"
      ]
    },
    {
      "cell_type": "code",
      "execution_count": 10,
      "id": "f51d7b77-97a7-4c27-9e97-fd843e098784",
      "metadata": {
        "colab": {
          "base_uri": "https://localhost:8080/",
          "height": 298
        },
        "id": "f51d7b77-97a7-4c27-9e97-fd843e098784",
        "outputId": "803b9b83-1a87-4843-961a-1df3453097e3"
      },
      "outputs": [
        {
          "output_type": "stream",
          "name": "stdout",
          "text": [
            "{3: 441, 1: 478, 0: 1630, 4: 236, 2: 154}\n"
          ]
        },
        {
          "output_type": "display_data",
          "data": {
            "text/plain": [
              "<Figure size 432x288 with 1 Axes>"
            ],
            "image/png": "[encoded data removed]"
          },
          "metadata": {
            "needs_background": "light"
          }
        }
      ],
      "source": [
        "counts = {}\n",
        "for record in pck_data:\n",
        "    if record[1] in counts:\n",
        "        counts[record[1]] += 1\n",
        "    else:\n",
        "        counts[record[1]] = 1\n",
        "print(counts)\n",
        "\n",
        "plt.bar(list(counts.keys()), list(counts.values()))\n",
        "plt.title(\"rozklad klas\")\n",
        "plt.show()"
      ]
    },
    {
      "cell_type": "code",
      "execution_count": 10,
      "id": "d72147bf-7f5a-446c-b0b1-b1afbfbc397d",
      "metadata": {
        "id": "d72147bf-7f5a-446c-b0b1-b1afbfbc397d"
      },
      "outputs": [],
      "source": []
    },
    {
      "cell_type": "code",
      "execution_count": 11,
      "id": "f3681d42-3d8e-4ca0-ac67-9ba911a44c6c",
      "metadata": {
        "colab": {
          "base_uri": "https://localhost:8080/"
        },
        "id": "f3681d42-3d8e-4ca0-ac67-9ba911a44c6c",
        "outputId": "83a4852f-4a28-40a8-84c4-09d6127f9eab"
      },
      "outputs": [
        {
          "output_type": "execute_result",
          "data": {
            "text/plain": [
              "(tensor(191., dtype=torch.float64), tensor(-1., dtype=torch.float64))"
            ]
          },
          "metadata": {},
          "execution_count": 11
        }
      ],
      "source": [
        "data = []\n",
        "targets = []\n",
        "max_val = float(\"-inf\")\n",
        "min_val = float(\"inf\")\n",
        "for record in pck_data:\n",
        "    data.append(torch.from_numpy(np.array(record[0])))\n",
        "    targets.append(torch.from_numpy(np.array(record[1])))\n",
        "    max_val = data[-1].max() if data[-1].max() > max_val else max_val\n",
        "    min_val = data[-1].min() if data[-1].min() < min_val else min_val\n",
        "\n",
        "max_val, min_val"
      ]
    },
    {
      "cell_type": "code",
      "execution_count": 12,
      "id": "7e979b82-db0e-479f-9d5c-dcff152a3f80",
      "metadata": {
        "id": "7e979b82-db0e-479f-9d5c-dcff152a3f80"
      },
      "outputs": [],
      "source": [
        "class VariableLenDataset(Dataset):\n",
        "    def __init__(self, in_data, target):\n",
        "        self.data = [(x, y) for x, y in zip(in_data, target)]      \n",
        "\n",
        "    def __len__(self):\n",
        "        return len(self.data)\n",
        "\n",
        "    def __getitem__(self, idx):\n",
        "        in_data, target = self.data[idx]\n",
        "        return in_data, target"
      ]
    },
    {
      "cell_type": "code",
      "execution_count": 13,
      "id": "982bf6de-74ab-4a69-abae-b3b61ff6f265",
      "metadata": {
        "id": "982bf6de-74ab-4a69-abae-b3b61ff6f265"
      },
      "outputs": [],
      "source": [
        "train_indices = int(len(data) * 0.75)\n",
        "data = [( (x - min_val) / (max_val-min_val) ).float() for x in data]\n",
        "train_set = VariableLenDataset(data[:train_indices], targets[:train_indices])\n",
        "test_set = VariableLenDataset(targets[train_indices:], targets[train_indices:])"
      ]
    },
    {
      "cell_type": "code",
      "execution_count": 14,
      "id": "fad0e899-4552-48e8-91b2-1b9baaf581f8",
      "metadata": {
        "id": "fad0e899-4552-48e8-91b2-1b9baaf581f8"
      },
      "outputs": [],
      "source": [
        "from torch.nn.utils.rnn import pad_sequence, pack_padded_sequence, pad_packed_sequence\n",
        "\n",
        "pad = -1\n",
        "\n",
        "def pad_collate(batch, pad_value=-1):\n",
        "    xx, yy = zip(*batch)\n",
        "\n",
        "    xx_pad = pad_sequence(xx, batch_first=True, padding_value=pad_value)\n",
        "    return xx_pad, torch.Tensor(yy)"
      ]
    },
    {
      "cell_type": "code",
      "execution_count": 15,
      "id": "1c0b56c5-1482-459a-a381-277b3751c19d",
      "metadata": {
        "colab": {
          "base_uri": "https://localhost:8080/"
        },
        "id": "1c0b56c5-1482-459a-a381-277b3751c19d",
        "outputId": "f1660464-407c-4579-f48c-ffb947e77373"
      },
      "outputs": [
        {
          "output_type": "stream",
          "name": "stdout",
          "text": [
            "tensor([ 0.2031,  0.1615,  0.9062,  ..., -1.0000, -1.0000, -1.0000])\n"
          ]
        }
      ],
      "source": [
        "train_loader = DataLoader(train_set, batch_size=32, shuffle=True, collate_fn=pad_collate)\n",
        "test_loader = DataLoader(test_set, batch_size=32, shuffle=False, drop_last=False, collate_fn=pad_collate)\n",
        "\n",
        "for a,b in train_loader:\n",
        "    print(a[3])\n",
        "    break"
      ]
    },
    {
      "cell_type": "code",
      "execution_count": 16,
      "id": "4b24abb3-c4c9-4231-8268-c968023dad2d",
      "metadata": {
        "id": "4b24abb3-c4c9-4231-8268-c968023dad2d"
      },
      "outputs": [],
      "source": [
        "class LSTMClassifier(nn.Module):\n",
        "\n",
        "    def __init__(self, input_size, hidden_size, num_layers, out_size, bidirectional = False):\n",
        "        super().__init__()\n",
        "        self.num_layers = num_layers\n",
        "        self.hidden_size = hidden_size\n",
        "        if bidirectional:\n",
        "            self.bidirectional = 2\n",
        "        else:\n",
        "            self.bidirectional = 1\n",
        "        self.lstm = nn.LSTM(input_size = input_size, hidden_size = hidden_size, num_layers = num_layers, bidirectional=bidirectional, dropout=0.2)\n",
        "        self.fc = nn.Linear(hidden_size*self.bidirectional, out_size)\n",
        "        \n",
        "    def init_hidden(self, batch_size):\n",
        "        hidden = torch.zeros(self.num_layers*self.bidirectional , batch_size, self.hidden_size)\n",
        "        state = torch.zeros(self.num_layers*self.bidirectional , batch_size, self.hidden_size)\n",
        "        return hidden, state\n",
        "    \n",
        "    def forward(self, x, hidden):\n",
        "        x = torch.transpose(x,0,1)\n",
        "        all_outputs, hidden = self.lstm(x, hidden)\n",
        "        all_outputs = torch.transpose(all_outputs,0,1)\n",
        "        out = all_outputs[:,-1,:]\n",
        "        x = self.fc(out)\n",
        "        return x, hidden"
      ]
    },
    {
      "cell_type": "code",
      "execution_count": 17,
      "id": "671655ef-4357-439c-948f-f349a0a55d5b",
      "metadata": {
        "id": "671655ef-4357-439c-948f-f349a0a55d5b"
      },
      "outputs": [],
      "source": [
        "model = LSTMClassifier(1, 64, 2, 5).to(device)\n",
        "optimizer = torch.optim.Adam(model.parameters(), lr=0.001)\n",
        "loss_fun = nn.CrossEntropyLoss(weight=torch.Tensor([1, 1, 1, 1, 1]).to(device), reduction='mean')"
      ]
    },
    {
      "cell_type": "code",
      "execution_count": 18,
      "id": "dcf786d2-3710-42f4-af7d-14475d8fb504",
      "metadata": {
        "colab": {
          "base_uri": "https://localhost:8080/",
          "height": 398
        },
        "id": "dcf786d2-3710-42f4-af7d-14475d8fb504",
        "outputId": "c07ec014-021e-4035-a24c-de3c0cb29f79"
      },
      "outputs": [
        {
          "output_type": "error",
          "ename": "KeyboardInterrupt",
          "evalue": "ignored",
          "traceback": [
            "\u001b[0;31m---------------------------------------------------------------------------\u001b[0m",
            "\u001b[0;31mKeyboardInterrupt\u001b[0m                         Traceback (most recent call last)",
            "\u001b[0;32m<ipython-input-18-f43942223ac5>\u001b[0m in \u001b[0;36m<module>\u001b[0;34m\u001b[0m\n\u001b[1;32m     23\u001b[0m         \u001b[0moptimizer\u001b[0m\u001b[0;34m.\u001b[0m\u001b[0mzero_grad\u001b[0m\u001b[0;34m(\u001b[0m\u001b[0;34m)\u001b[0m\u001b[0;34m\u001b[0m\u001b[0;34m\u001b[0m\u001b[0m\n\u001b[1;32m     24\u001b[0m         \u001b[0mloss\u001b[0m \u001b[0;34m=\u001b[0m \u001b[0mloss_fun\u001b[0m\u001b[0;34m(\u001b[0m\u001b[0mpreds\u001b[0m\u001b[0;34m,\u001b[0m \u001b[0mtargets\u001b[0m\u001b[0;34m)\u001b[0m\u001b[0;34m\u001b[0m\u001b[0;34m\u001b[0m\u001b[0m\n\u001b[0;32m---> 25\u001b[0;31m         \u001b[0mloss\u001b[0m\u001b[0;34m.\u001b[0m\u001b[0mbackward\u001b[0m\u001b[0;34m(\u001b[0m\u001b[0;34m)\u001b[0m\u001b[0;34m\u001b[0m\u001b[0;34m\u001b[0m\u001b[0m\n\u001b[0m\u001b[1;32m     26\u001b[0m         \u001b[0moptimizer\u001b[0m\u001b[0;34m.\u001b[0m\u001b[0mstep\u001b[0m\u001b[0;34m(\u001b[0m\u001b[0;34m)\u001b[0m\u001b[0;34m\u001b[0m\u001b[0;34m\u001b[0m\u001b[0m\n\u001b[1;32m     27\u001b[0m         \u001b[0mlosses_epoch_train\u001b[0m\u001b[0;34m.\u001b[0m\u001b[0mappend\u001b[0m\u001b[0;34m(\u001b[0m\u001b[0mloss\u001b[0m\u001b[0;34m.\u001b[0m\u001b[0mitem\u001b[0m\u001b[0;34m(\u001b[0m\u001b[0;34m)\u001b[0m\u001b[0;34m)\u001b[0m\u001b[0;34m\u001b[0m\u001b[0;34m\u001b[0m\u001b[0m\n",
            "\u001b[0;32m/usr/local/lib/python3.8/dist-packages/torch/_tensor.py\u001b[0m in \u001b[0;36mbackward\u001b[0;34m(self, gradient, retain_graph, create_graph, inputs)\u001b[0m\n\u001b[1;32m    394\u001b[0m                 \u001b[0mcreate_graph\u001b[0m\u001b[0;34m=\u001b[0m\u001b[0mcreate_graph\u001b[0m\u001b[0;34m,\u001b[0m\u001b[0;34m\u001b[0m\u001b[0;34m\u001b[0m\u001b[0m\n\u001b[1;32m    395\u001b[0m                 inputs=inputs)\n\u001b[0;32m--> 396\u001b[0;31m         \u001b[0mtorch\u001b[0m\u001b[0;34m.\u001b[0m\u001b[0mautograd\u001b[0m\u001b[0;34m.\u001b[0m\u001b[0mbackward\u001b[0m\u001b[0;34m(\u001b[0m\u001b[0mself\u001b[0m\u001b[0;34m,\u001b[0m \u001b[0mgradient\u001b[0m\u001b[0;34m,\u001b[0m \u001b[0mretain_graph\u001b[0m\u001b[0;34m,\u001b[0m \u001b[0mcreate_graph\u001b[0m\u001b[0;34m,\u001b[0m \u001b[0minputs\u001b[0m\u001b[0;34m=\u001b[0m\u001b[0minputs\u001b[0m\u001b[0;34m)\u001b[0m\u001b[0;34m\u001b[0m\u001b[0;34m\u001b[0m\u001b[0m\n\u001b[0m\u001b[1;32m    397\u001b[0m \u001b[0;34m\u001b[0m\u001b[0m\n\u001b[1;32m    398\u001b[0m     \u001b[0;32mdef\u001b[0m \u001b[0mregister_hook\u001b[0m\u001b[0;34m(\u001b[0m\u001b[0mself\u001b[0m\u001b[0;34m,\u001b[0m \u001b[0mhook\u001b[0m\u001b[0;34m)\u001b[0m\u001b[0;34m:\u001b[0m\u001b[0;34m\u001b[0m\u001b[0;34m\u001b[0m\u001b[0m\n",
            "\u001b[0;32m/usr/local/lib/python3.8/dist-packages/torch/autograd/__init__.py\u001b[0m in \u001b[0;36mbackward\u001b[0;34m(tensors, grad_tensors, retain_graph, create_graph, grad_variables, inputs)\u001b[0m\n\u001b[1;32m    171\u001b[0m     \u001b[0;31m# some Python versions print out the first line of a multi-line function\u001b[0m\u001b[0;34m\u001b[0m\u001b[0;34m\u001b[0m\u001b[0;34m\u001b[0m\u001b[0m\n\u001b[1;32m    172\u001b[0m     \u001b[0;31m# calls in the traceback and some print out the last line\u001b[0m\u001b[0;34m\u001b[0m\u001b[0;34m\u001b[0m\u001b[0;34m\u001b[0m\u001b[0m\n\u001b[0;32m--> 173\u001b[0;31m     Variable._execution_engine.run_backward(  # Calls into the C++ engine to run the backward pass\n\u001b[0m\u001b[1;32m    174\u001b[0m         \u001b[0mtensors\u001b[0m\u001b[0;34m,\u001b[0m \u001b[0mgrad_tensors_\u001b[0m\u001b[0;34m,\u001b[0m \u001b[0mretain_graph\u001b[0m\u001b[0;34m,\u001b[0m \u001b[0mcreate_graph\u001b[0m\u001b[0;34m,\u001b[0m \u001b[0minputs\u001b[0m\u001b[0;34m,\u001b[0m\u001b[0;34m\u001b[0m\u001b[0;34m\u001b[0m\u001b[0m\n\u001b[1;32m    175\u001b[0m         allow_unreachable=True, accumulate_grad=True)  # Calls into the C++ engine to run the backward pass\n",
            "\u001b[0;31mKeyboardInterrupt\u001b[0m: "
          ]
        }
      ],
      "source": [
        "import sys\n",
        "model.train()\n",
        "\n",
        "losses_train = []\n",
        "losses_epoch_train = []\n",
        "losses_test = []\n",
        "losses_epoch_test = []\n",
        "\n",
        "acc_train = []\n",
        "acc_epoch_train = []\n",
        "acc_test = []\n",
        "acc_epoch_test = []\n",
        "\n",
        "\n",
        "for epoch in range(100):\n",
        "    for x, targets in train_loader:\n",
        "        targets = targets.long()\n",
        "        x = x.to(device).unsqueeze(2)\n",
        "        targets = targets.to(device)\n",
        "        hidden, state = model.init_hidden(x.size(0))\n",
        "        hidden, state = hidden.to(device), state.to(device)\n",
        "        preds, _ = model(x, (hidden,state))\n",
        "        optimizer.zero_grad()\n",
        "        loss = loss_fun(preds, targets)\n",
        "        loss.backward()\n",
        "        optimizer.step()\n",
        "        losses_epoch_train.append(loss.item())\n",
        "        acc = (preds.argmax(dim=1) == targets).sum() / preds.shape[0]\n",
        "        acc_epoch_train.append(acc.cpu())\n",
        "    losses_train.append(np.mean(losses_epoch_train))\n",
        "    acc_train.append(np.mean(acc_epoch_train))\n",
        "    print(f\"Epoch: {epoch}, loss train: {losses_train[-1]:.3}\")\n",
        "    print(f\"Epoch: {epoch}, acc train: {acc_train[-1]:.3}\")"
      ]
    },
    {
      "cell_type": "code",
      "execution_count": null,
      "id": "ca78a89f-825d-48ca-a4d9-fcf6c6a78a2e",
      "metadata": {
        "id": "ca78a89f-825d-48ca-a4d9-fcf6c6a78a2e",
        "outputId": "820beb9d-ac50-4ae7-ccf1-42c964e83843"
      },
      "outputs": [
        {
          "name": "stdout",
          "output_type": "stream",
          "text": [
            "Finished Training\n"
          ]
        },
        {
          "data": {
            "image/png": "[encoded data removed]",
            "text/plain": [
              "<Figure size 640x480 with 1 Axes>"
            ]
          },
          "metadata": {},
          "output_type": "display_data"
        },
        {
          "data": {
            "image/png": "[encoded data removed]",
            "text/plain": [
              "<Figure size 640x480 with 1 Axes>"
            ]
          },
          "metadata": {},
          "output_type": "display_data"
        }
      ],
      "source": [
        "plt.figure()\n",
        "plt.grid(True)\n",
        "plt.plot(losses_train)\n",
        "plt.plot(losses_test)\n",
        "plt.title(\"Loss\")\n",
        "plt.legend([\"train\", \"valid\"])\n",
        "\n",
        "plt.figure()\n",
        "plt.grid(True)\n",
        "plt.title(\"Accuracy\")\n",
        "plt.plot(acc_train)\n",
        "plt.plot(acc_test)\n",
        "plt.legend([\"train\", \"valid\"])\n",
        "print('Finished Training')"
      ]
    },
    {
      "cell_type": "code",
      "execution_count": null,
      "id": "cf1ed33e-a9e8-4c3f-b2ba-640144a9b321",
      "metadata": {
        "id": "cf1ed33e-a9e8-4c3f-b2ba-640144a9b321"
      },
      "outputs": [],
      "source": []
    }
  ],
  "metadata": {
    "kernelspec": {
      "display_name": "Python 3 (ipykernel)",
      "language": "python",
      "name": "python3"
    },
    "language_info": {
      "codemirror_mode": {
        "name": "ipython",
        "version": 3
      },
      "file_extension": ".py",
      "mimetype": "text/x-python",
      "name": "python",
      "nbconvert_exporter": "python",
      "pygments_lexer": "ipython3",
      "version": "3.10.8"
    },
    "colab": {
      "provenance": []
    }
  },
  "nbformat": 4,
  "nbformat_minor": 5
}